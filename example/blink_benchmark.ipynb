{
 "cells": [
  {
   "cell_type": "markdown",
   "id": "ae6a32d7-46f1-4d58-911b-8deee603393d",
   "metadata": {},
   "source": [
    "# BLINK Speed Benchmarking"
   ]
  },
  {
   "cell_type": "code",
   "execution_count": null,
   "id": "2cb75c0b-8d06-464d-a756-8068c9c5351c",
   "metadata": {},
   "outputs": [],
   "source": [
    "from IPython.core.display import display, HTML\n",
    "display(HTML(\"<style>.container { width:100% !important; }</style>\"))\n",
    "\n",
    "import sys\n",
    "sys.path.insert(0, '../')\n",
    "\n",
    "import blink\n",
    "\n",
    "import time\n",
    "import pickle\n",
    "import math\n",
    "import numpy as np\n",
    "import pandas as pd\n",
    "import matplotlib.pyplot as plt\n",
    "import seaborn as sns\n",
    "from sklearn.metrics import confusion_matrix\n",
    "\n",
    "import matchms as mms\n",
    "from matchms.similarity import CosineGreedy, ModifiedCosine\n",
    "\n",
    "from ms_entropy import FlashEntropySearch"
   ]
  },
  {
   "cell_type": "markdown",
   "id": "787c0d25-e5ac-4d91-bae5-f2475c618671",
   "metadata": {},
   "source": [
    "# Load Test Data"
   ]
  },
  {
   "cell_type": "code",
   "execution_count": null,
   "id": "e1eaa75d-9717-413b-9691-3fa049c1c43f",
   "metadata": {},
   "outputs": [],
   "source": [
    "def verify_mz_order(spec):\n",
    "    \"\"\"\n",
    "    verify that mz array is sorted\n",
    "    \"\"\"\n",
    "    is_sorted = np.all(spec[0][:-1] <= spec[0][1:])\n",
    "    \n",
    "    return is_sorted\n",
    "\n",
    "def create_mms_spectra(row):\n",
    "    \"\"\"\n",
    "    create MatchMS formated spectra\n",
    "    \"\"\"\n",
    "    cols = ['name', 'precursor_mz','inchi', 'smiles', 'spectrumid']\n",
    "    metadata = row[cols].to_dict()\n",
    "    spectrum = mms.Spectrum(mz=np.array(row['spectrum'][0], dtype=\"float\"), intensities=np.array(row['spectrum'][1], dtype=\"float\"), metadata=metadata)\n",
    "    \n",
    "    return spectrum\n",
    "\n",
    "def generate_sample_spectra(query_size, ref_size, msms_library):\n",
    "    \"\"\"\n",
    "    sample spectra from test library\n",
    "    \"\"\"\n",
    "    query_sample = msms_library.sample(query_size)\n",
    "    ref_sample = msms_library.sample(ref_size)\n",
    "    \n",
    "    return query_sample, ref_sample\n",
    "\n",
    "def create_mms_spectra(row):\n",
    "    \"\"\"\n",
    "    create MatchMS formated spectra\n",
    "    \"\"\"\n",
    "    cols = ['name', 'precursor_mz','inchi', 'smiles', 'spectrumid']\n",
    "    metadata = row[cols].to_dict()\n",
    "    spectrum = mms.Spectrum(mz=np.array(row['spectrum'][0], dtype=\"float\"), intensities=np.array(row['spectrum'][1], dtype=\"float\"), metadata=metadata)\n",
    "    \n",
    "    return spectrum\n",
    "\n",
    "def remove_noise_ions(s):\n",
    "    \"\"\"\n",
    "    remove ions <1% of base peak intensity \n",
    "    \"\"\"\n",
    "    s_ratio = s[1] / s[1].max()\n",
    "    idx = s_ratio > 0.01\n",
    "    s_clean = np.array([s[0][idx], s[1][idx]])\n",
    "    \n",
    "    return s_clean\n",
    "\n",
    "def filter_spectra(row, decimal=4):\n",
    "    \"\"\"\n",
    "    filter noise ions and round m/z values to a consistent decimal place\n",
    "    \"\"\"\n",
    "    idx = np.argwhere(abs(row['spectrum'][0]-row['precursor_mz'])>14).flatten()\n",
    "    s = row['spectrum'][:,idx]\n",
    "    s_filtered = s.round(decimal)\n",
    "    \n",
    "    return s_filtered\n",
    "\n",
    "def round_precursor_mz(row, decimal=4):\n",
    "    \"\"\"\n",
    "    round precursor m/z \n",
    "    \"\"\"\n",
    "    r_pmz = round(row['precursor_mz'], decimal)\n",
    "    \n",
    "    return r_pmz\n",
    "\n",
    "def create_entropy_spectra(spec):\n",
    "    \"\"\"\n",
    "    convert spectra to peak lists used in ms_entropy\n",
    "    \"\"\"\n",
    "    entropy_spec = []\n",
    "    for peak_mz, peak_i in zip(spec[0], spec[1]):\n",
    "        entropy_spec.append([peak_mz, peak_i])\n",
    "        \n",
    "    return entropy_spec"
   ]
  },
  {
   "cell_type": "code",
   "execution_count": null,
   "id": "a2e1a898-cb63-4b18-9c3b-5f816497ba73",
   "metadata": {},
   "outputs": [],
   "source": [
    "gnps_all = blink.open_msms_file('/global/cfs/cdirs/metatlas/projects/spectral_libraries/ALL_GNPS_20221017.mgf')\n",
    "\n",
    "#remove incorrectly sorted spectra and spectra with small precursor mzs\n",
    "gnps_all['is_sorted'] = gnps_all.spectrum.apply(verify_mz_order)\n",
    "gnps_all = gnps_all[gnps_all.is_sorted == True]\n",
    "gnps_all = gnps_all[gnps_all.precursor_mz > 60]\n",
    "\n",
    "#remove all zero intensity ions\n",
    "gnps_all.spectrum = blink.spectral_normalization._filter_spectra(gnps_all.spectrum)\n",
    "\n",
    "#remove fragment ions greater than precursor mz and round values consistently\n",
    "gnps_all.spectrum = gnps_all.apply(lambda x: filter_spectra(x), axis=1)\n",
    "\n",
    "#remove empty spectra\n",
    "gnps_all['spec_size'] = gnps_all.spectrum.apply(lambda x: len(x[1]))\n",
    "gnps_all = gnps_all[gnps_all.spec_size > 0]\n",
    "\n",
    "#remove probable profile mode spectra\n",
    "gnps_all['median_mz_diff'] = gnps_all.spectrum.apply(lambda x: np.median(np.diff(x[0])))\n",
    "gnps_all['num_ions'] = gnps_all.spectrum.apply(lambda x: len(x[0]))\n",
    "gnps_all = gnps_all[(gnps_all['median_mz_diff'] > 0.8) & (gnps_all['num_ions'] < 800)].reset_index()\n",
    "\n",
    "#remove ions less than 1% of base peak intensity for higher quality scores\n",
    "gnps_all.spectrum = gnps_all.spectrum.apply(remove_noise_ions)\n",
    "\n",
    "#remove duplicate noise ions\n",
    "gnps_all.spectrum = blink.spectral_normalization._remove_duplicate_ions(gnps_all.spectrum, min_diff=0.01)"
   ]
  },
  {
   "cell_type": "markdown",
   "id": "cca4d3a3-552f-4a11-9ee3-dfcb85fc849f",
   "metadata": {
    "tags": []
   },
   "source": [
    "# Speed Comparison"
   ]
  },
  {
   "cell_type": "markdown",
   "id": "7bae0d7d-8f7e-4ce3-b4b0-6e79638b248b",
   "metadata": {},
   "source": [
    "### Define Speed Benchmarking Parameters"
   ]
  },
  {
   "cell_type": "code",
   "execution_count": null,
   "id": "4543af32-2c1f-46e5-822a-2efefea30d96",
   "metadata": {},
   "outputs": [],
   "source": [
    "replicate = 3\n",
    "\n",
    "#Loop parameters\n",
    "iteration_num = 7\n",
    "multiplier = 10\n",
    "initial_query_size = 10\n",
    "initial_ref_size = 10\n",
    "\n",
    "#MatchMS parameters\n",
    "cos = CosineGreedy(tolerance=0.0099, intensity_power=0.5)\n",
    "\n",
    "#BLINK parameters\n",
    "bin_width = 0.0001\n",
    "tolerance = 0.01\n",
    "\n",
    "#FlashEntropy parameters\n",
    "entropy_search = FlashEntropySearch()\n",
    "flash_tolerance = 0.0099"
   ]
  },
  {
   "cell_type": "markdown",
   "id": "95af72b8-0324-4f68-a511-f55fa6b4e3e6",
   "metadata": {},
   "source": [
    "### Compute Comparison"
   ]
  },
  {
   "cell_type": "code",
   "execution_count": null,
   "id": "68961c35-0698-424f-975a-68afeb99460d",
   "metadata": {},
   "outputs": [],
   "source": [
    "index = 0\n",
    "iteration = 1\n",
    "multiplier_sqrt = math.sqrt(multiplier)\n",
    "\n",
    "speed_test_results = {'query_spectra_num':{}, 'ref_spectra_num':{}, 'blink_time':{}, 'mms_time':{}, 'flash_time':{}, \n",
    "                      'blink_setup_time':{}, 'mms_setup_time':{}, 'flash_setup_time':{}, 'replicate':{}}\n",
    "\n",
    "query_size = initial_query_size\n",
    "ref_size = initial_ref_size\n",
    "\n",
    "while iteration <= iteration_num: \n",
    "    \n",
    "    print(\"iteration {iteration} of {iteration_num} start\".format(iteration=iteration, iteration_num=iteration_num))\n",
    "\n",
    "    query_sample, ref_sample = generate_sample_spectra(query_size, ref_size, gnps_all)\n",
    "    \n",
    "    query_spectra = query_sample.spectrum.tolist()\n",
    "    ref_spectra = ref_sample.spectrum.tolist()\n",
    "    \n",
    "    query_precursor_mzs = query_sample.precursor_mz.tolist()\n",
    "    ref_precursor_mzs = ref_sample.precursor_mz.tolist()\n",
    "\n",
    "    MMS1 = query_sample.apply(lambda x: create_mms_spectra(x), axis=1)\n",
    "    MMS2 = ref_sample.apply(lambda x: create_mms_spectra(x), axis=1)\n",
    "    \n",
    "    cols = ['index','precursor_mz','spectrum','scans']\n",
    "    e_small = query_sample[cols].copy()\n",
    "    e_medium = ref_sample[cols].copy()\n",
    "    e_small['spectrum'] = e_small['spectrum'].apply(lambda x: [list(i) for i in x.T])\n",
    "    e_medium['spectrum'] = e_medium['spectrum'].apply(lambda x: [list(i) for i in x.T])\n",
    "    e_small.rename(columns={'spectrum':'peaks'},inplace=True)\n",
    "    e_medium.rename(columns={'spectrum':'peaks','index':'ref'},inplace=True)\n",
    "    e_small = e_small.to_dict('records')\n",
    "    e_medium = e_medium.to_dict('records')\n",
    "    \n",
    "    t0 = time.time()\n",
    "    S1 = blink.discretize_spectra(query_spectra,  ref_spectra, query_precursor_mzs, ref_precursor_mzs, intensity_power=0.5, bin_width=bin_width, tolerance=tolerance)\n",
    "    t1 = time.time()\n",
    "    \n",
    "    blink_setup_time = t1 - t0\n",
    "\n",
    "    t0 = time.time()\n",
    "    S12 = blink.score_sparse_spectra(S1)\n",
    "    t1 = time.time()\n",
    "\n",
    "    blink_time = t1 - t0\n",
    "\n",
    "    t0 = time.time()\n",
    "    MMS12 = cos.matrix(references=MMS1, queries=MMS2)\n",
    "    t1 = time.time()\n",
    "\n",
    "    mms_time = t1 - t0\n",
    "    mms_setup_time = 0\n",
    "    \n",
    "    t0 = time.time()\n",
    "    e_ref = entropy_search.build_index(e_medium)\n",
    "    t1 = time.time()\n",
    "    \n",
    "    flash_setup_time = t1 - t0\n",
    "    \n",
    "    t0 = time.time()\n",
    "    for i,s in enumerate(e_small):\n",
    "        entropy_similarity = entropy_search.search(precursor_mz=s['precursor_mz'], peaks=s['peaks'], ms2_tolerance_in_da=flash_tolerance,method='open')\n",
    "    t1 = time.time()\n",
    "    \n",
    "    flash_time = t1 - t0\n",
    "    \n",
    "    speed_test_results['query_spectra_num'][index] = query_size\n",
    "    speed_test_results['ref_spectra_num'][index] = ref_size\n",
    "    speed_test_results['replicate'][index] = replicate\n",
    "    speed_test_results['blink_time'][index] = blink_time\n",
    "    speed_test_results['mms_time'][index] = mms_time\n",
    "    speed_test_results['flash_time'][index] = flash_time\n",
    "    speed_test_results['blink_setup_time'][index] = blink_setup_time\n",
    "    speed_test_results['mms_setup_time'][index] = mms_setup_time\n",
    "    speed_test_results['flash_setup_time'][index] = flash_setup_time\n",
    "\n",
    "    query_size = round(query_size * multiplier_sqrt)\n",
    "    ref_size = round(ref_size * multiplier_sqrt)\n",
    "\n",
    "    print(\"iteration {iteration} of {iteration_num} end\".format(iteration=iteration, iteration_num=iteration_num))\n",
    "    \n",
    "    if iteration == iteration_num:\n",
    "        with open('blink_scores_replicate0{num}.pickle'.format(num=replicate), 'wb') as output_file:\n",
    "            pickle.dump(S12, output_file, protocol=pickle.HIGHEST_PROTOCOL)\n",
    "            \n",
    "        with open('mms_scores_replicate0{num}.pickle'.format(num=replicate), 'wb') as output_file:\n",
    "            pickle.dump(MMS12, output_file, protocol=pickle.HIGHEST_PROTOCOL)\n",
    "\n",
    "    index += 1\n",
    "    iteration += 1"
   ]
  },
  {
   "cell_type": "markdown",
   "id": "1945b17a-4b74-40be-abbc-774d8959969d",
   "metadata": {},
   "source": [
    "### Save & Plot Results"
   ]
  },
  {
   "cell_type": "code",
   "execution_count": null,
   "id": "60076b4a-6661-4bd8-9673-db52053cfba0",
   "metadata": {
    "tags": []
   },
   "outputs": [],
   "source": [
    "df = pd.DataFrame.from_dict(speed_test_results, orient='columns')\n",
    "df['comparisons'] = df['query_spectra_num'] * df['ref_spectra_num']"
   ]
  },
  {
   "cell_type": "code",
   "execution_count": null,
   "id": "43450af9-41e9-4fe2-bac6-551352154615",
   "metadata": {
    "tags": []
   },
   "outputs": [],
   "source": [
    "df['blink_total_time'] = df['blink_time'] + df['blink_setup_time']\n",
    "df['flash_total_time'] = df['flash_time'] + df['flash_setup_time']\n",
    "df['mms_total_time'] = df['mms_time']"
   ]
  },
  {
   "cell_type": "code",
   "execution_count": null,
   "id": "602c082e-f5c4-4c7e-a260-8d0bcd1bef2e",
   "metadata": {},
   "outputs": [],
   "source": [
    "plot_df = df.groupby('comparisons')[['blink_time', 'mms_time', 'flash_time']].mean()\n",
    "plot_df.reset_index(inplace=True)\n",
    "\n",
    "plt.plot(plot_df['comparisons'], plot_df['blink_time'], '-o', label='BLINK')\n",
    "plt.plot(plot_df['comparisons'], plot_df['mms_time'], '-o', label='MatchMS')\n",
    "plt.plot(plot_df['comparisons'], plot_df['flash_time'], '-o', label='Flash Entropy')\n",
    "\n",
    "plt.ylabel('Compute Time (seconds)')\n",
    "plt.xlabel('# Comparisons')\n",
    "plt.yscale('log')\n",
    "plt.xscale('log')\n",
    "plt.legend()\n",
    "plt.show()"
   ]
  },
  {
   "cell_type": "code",
   "execution_count": null,
   "id": "a3c869d5-c12a-4316-b011-5e8b28087076",
   "metadata": {
    "tags": []
   },
   "outputs": [],
   "source": [
    "plot_df = df.groupby('comparisons')[['blink_total_time', 'mms_total_time', 'flash_total_time']].median()\n",
    "plot_df.reset_index(inplace=True)\n",
    "\n",
    "plt.plot(plot_df['comparisons'], plot_df['blink_total_time'], '-o', label='BLINK')\n",
    "plt.plot(plot_df['comparisons'], plot_df['mms_total_time'], '-o', label='MatchMS')\n",
    "plt.plot(plot_df['comparisons'], plot_df['flash_total_time'], '-o', label='Flash Entropy')\n",
    "\n",
    "plt.ylabel('Compute Time (seconds)')\n",
    "plt.xlabel('# Comparisons')\n",
    "plt.yscale('log')\n",
    "plt.xscale('log')\n",
    "plt.legend()\n",
    "plt.show()"
   ]
  },
  {
   "cell_type": "code",
   "execution_count": null,
   "id": "993c912d-10d1-4db3-a0dd-b367792ef381",
   "metadata": {},
   "outputs": [],
   "source": [
    "df.to_csv('cos_speed_benchmarking_replicate0{num}.csv'.format(num=replicate))"
   ]
  },
  {
   "cell_type": "markdown",
   "id": "c0b6abff-6953-46bf-8920-4257ba676b1a",
   "metadata": {},
   "source": [
    "# Merge Replicates & Generate Final Speed Plot"
   ]
  },
  {
   "cell_type": "code",
   "execution_count": null,
   "id": "8d65e038-985a-47ee-a200-5d9a83c64141",
   "metadata": {},
   "outputs": [],
   "source": [
    "rep1 = pd.read_csv('cos_speed_benchmarking_replicate01.csv', index_col=0)\n",
    "rep2 = pd.read_csv('cos_speed_benchmarking_replicate02.csv', index_col=0)\n",
    "rep3 = pd.read_csv('cos_speed_benchmarking_replicate03.csv', index_col=0)\n",
    "\n",
    "final_df = pd.concat([rep1, rep2, rep3])"
   ]
  },
  {
   "cell_type": "code",
   "execution_count": null,
   "id": "769a5b18-da8c-4104-8ec2-79e8c559c28a",
   "metadata": {},
   "outputs": [],
   "source": [
    "final_df = final_df[final_df.comparisons >= 1500]"
   ]
  },
  {
   "cell_type": "code",
   "execution_count": null,
   "id": "ebeff1ec-d7c3-4ca0-8067-9880324216c5",
   "metadata": {},
   "outputs": [],
   "source": [
    "plot_df = final_df.groupby('comparisons')[['blink_time', 'mms_time', 'flash_time']].median()\n",
    "plot_df.reset_index(inplace=True)\n",
    "\n",
    "fig, ax = plt.subplots(figsize=(14,10))\n",
    "ax.plot(plot_df['comparisons'].values, plot_df['blink_time'].values, '-o', label='BLINK', linewidth=3, markersize=15)\n",
    "ax.plot(plot_df['comparisons'].values, plot_df['mms_time'].values, '-o', label='MatchMS', linewidth=3, markersize=15)\n",
    "ax.plot(plot_df['comparisons'].values, plot_df['flash_time'].values, '-o', label='Flash Entropy', linewidth=3, markersize=15)\n",
    "\n",
    "plt.ylabel('Compute Time (seconds)', fontsize=40)\n",
    "plt.xlabel('# Comparisons', fontsize=40)\n",
    "ax.tick_params(axis='both', labelsize=36)\n",
    "ax.tick_params(axis='both', labelsize=36)\n",
    "plt.yscale('log')\n",
    "plt.xscale('log')\n",
    "plt.legend()\n",
    "plt.legend(loc=2, prop={'size': 36})\n",
    "plt.grid()\n",
    "plt.show()\n",
    "\n",
    "# fig.savefig('cos_speed_benchmark.pdf', bbox_inches=\"tight\")"
   ]
  },
  {
   "cell_type": "code",
   "execution_count": null,
   "id": "5d3d8338-e430-4411-97c6-bf4a7a95d7e9",
   "metadata": {
    "tags": []
   },
   "outputs": [],
   "source": [
    "plot_df = final_df.groupby('comparisons')[['blink_setup_time', 'flash_setup_time']].median()\n",
    "plot_df.reset_index(inplace=True)\n",
    "\n",
    "fig, ax = plt.subplots(figsize=(14,10))\n",
    "ax.plot(plot_df['comparisons'].values, plot_df['blink_setup_time'].values, '-o', label='BLINK', linewidth=3, markersize=15)\n",
    "ax.plot(plot_df['comparisons'].values, plot_df['flash_setup_time'].values, '-o', label='Flash Entropy', linewidth=3, markersize=15, color='g')\n",
    "\n",
    "plt.ylabel('Compute Time (seconds)', fontsize=40)\n",
    "plt.xlabel('# Comparisons', fontsize=40)\n",
    "ax.tick_params(axis='both', labelsize=36)\n",
    "ax.tick_params(axis='both', labelsize=36)\n",
    "plt.yscale('log')\n",
    "plt.xscale('log')\n",
    "plt.legend()\n",
    "plt.legend(loc=2, prop={'size': 36})\n",
    "plt.grid()\n",
    "plt.show()\n",
    "\n",
    "fig.savefig('cos_setup-speed_benchmark.pdf', bbox_inches=\"tight\")"
   ]
  },
  {
   "cell_type": "markdown",
   "id": "8087ccc5-320f-4f38-a351-7d8ae76e0ceb",
   "metadata": {},
   "source": [
    "# Load Scores and Generate Final Agreement Matrix"
   ]
  },
  {
   "cell_type": "code",
   "execution_count": null,
   "id": "cf3dfb6d-b3df-4595-a469-5e2e31d15298",
   "metadata": {},
   "outputs": [],
   "source": [
    "with open('blink_scores_replicate04.pickle', 'rb') as input_file:\n",
    "    S12 = pickle.load(input_file)\n",
    "    \n",
    "with open('mms_scores_replicate04.pickle', 'rb') as input_file:\n",
    "    MMS12 = pickle.load(input_file)"
   ]
  },
  {
   "cell_type": "code",
   "execution_count": null,
   "id": "5b31e4b2-8e71-4330-bd2c-c6a2a58ad19c",
   "metadata": {},
   "outputs": [],
   "source": [
    "#filter scores using GNPS default\n",
    "good_score = 0.7\n",
    "good_matches = 6"
   ]
  },
  {
   "cell_type": "code",
   "execution_count": null,
   "id": "dc72ec51-434c-4d2c-915f-8f6a7f6e5150",
   "metadata": {
    "tags": []
   },
   "outputs": [],
   "source": [
    "idx1 = S12['mzi'].toarray().flatten()>=good_score\n",
    "idx2 = S12['mzc'].toarray().flatten()>=good_matches\n",
    "\n",
    "idx3 = MMS12['score'].flatten()>=good_score\n",
    "idx4 = MMS12['matches'].flatten()>=good_matches\n",
    "\n",
    "blink_ids = idx1 * idx2  \n",
    "matchms_ids = idx3 * idx4\n",
    "\n",
    "# cm_norm = confusion_matrix(matchms_ids, blink_ids, normalize='pred')\n",
    "cm = confusion_matrix(matchms_ids, blink_ids)\n",
    "cm_norm = cm / cm.astype(float).sum(axis=0)\n",
    "df = pd.DataFrame(cm)\n",
    "\n",
    "# perc = df.copy()\n",
    "# cols=perc.columns.values\n",
    "# perc[cols]=perc[cols].div(perc[cols].sum(axis=1), axis=0).multiply(100)\n",
    "perc = pd.DataFrame(data=cm_norm * 100)\n",
    "annot = perc.round(2).astype(str) + \"%\" + \"\\n\" + df.round(2).astype(str) \n",
    "\n",
    "fig, ax = plt.subplots(figsize=(11.5, 10))\n",
    "ax = sns.heatmap(cm_norm, annot=annot, fmt='', vmin=0, vmax=1, cmap=\"Blues\", \n",
    "            annot_kws={\"fontsize\":36}, linewidth=1,linecolor='black' ,xticklabels=['Dissimilar', 'Similar'], yticklabels=['Dissimilar', 'Similar'])\n",
    "\n",
    "ax.tick_params(labelsize=36)\n",
    "cbar = ax.collections[0].colorbar\n",
    "cbar.ax.tick_params(labelsize=36)\n",
    "cbar.set_ticks([0, .2, .75, 1])\n",
    "cbar.set_ticklabels(['low', '20%', '75%', '100%'])\n",
    "\n",
    "plt.xlabel('BLINK', fontsize=40)\n",
    "plt.ylabel('MatchMS', fontsize=40)\n",
    "plt.show()\n",
    "\n",
    "# fig.savefig('cos_confusion_matrix.pdf')"
   ]
  },
  {
   "cell_type": "markdown",
   "id": "d8cf0e30-bebb-47df-b4c2-13667c3da6dc",
   "metadata": {},
   "source": [
    "# Max Score and Count Differences of True Positives"
   ]
  },
  {
   "cell_type": "code",
   "execution_count": null,
   "id": "bd42f756-f3de-4d22-b122-c2ecd2a10456",
   "metadata": {},
   "outputs": [],
   "source": [
    "c = np.logical_and(blink_ids, matchms_ids)\n",
    "\n",
    "blink_scores = S12['mzi'].toarray().flatten()\n",
    "blink_counts = S12['mzc'].toarray().flatten()\n",
    "mms_scores = MMS12['score'].flatten()\n",
    "mms_counts = MMS12['matches'].flatten()\n",
    "\n",
    "blink_nonzero = blink_scores > 0\n",
    "mms_nonzero = mms_scores > 0\n",
    "\n",
    "# mean_score_diff = np.mean(blink_scores[blink_nonzero] - mms_scores[mms_nonzero])\n",
    "# mean_count_diff = np.mean(blink_counts[blink_nonzero] - mms_counts[mms_nonzero])\n",
    "\n",
    "mean_score_diff = np.max(blink_scores[c] - mms_scores[c])\n",
    "mean_count_diff = np.max(blink_counts[c] - mms_counts[c])\n",
    "print(\"mean BLINK score difference: +{mean_score_diff}\".format(mean_score_diff=mean_score_diff))\n",
    "print(\"mean BLINK count difference: +{mean_count_diff}\".format(mean_count_diff=mean_count_diff))"
   ]
  },
  {
   "cell_type": "markdown",
   "id": "7edd20ca-a4db-4dc0-8a60-aba2cc2fb700",
   "metadata": {},
   "source": [
    "# Identity Search (1 vs 450 thousand spectra) Speed"
   ]
  },
  {
   "cell_type": "code",
   "execution_count": null,
   "id": "cba83857-8797-4eaf-acac-a3792942420e",
   "metadata": {
    "tags": []
   },
   "outputs": [],
   "source": [
    "#precursor mz tolerance in dalton\n",
    "pmz_tol = 0.05\n",
    "\n",
    "search_entries = gnps_all.sample(50)\n",
    "\n",
    "search_pmzs = search_entries.precursor_mz.tolist()\n",
    "search_spectra = search_entries.spectrum.tolist()\n",
    "\n",
    "ref_pmzs = gnps_all.precursor_mz.tolist()"
   ]
  },
  {
   "cell_type": "code",
   "execution_count": null,
   "id": "8ae14d7e-f245-45f1-93ab-e7d0fa9a66f1",
   "metadata": {
    "tags": []
   },
   "outputs": [],
   "source": [
    "id_speed_test_results = {'blink_time':[], 'mms_time':[], 'flash_time':[], \n",
    "                      'blink_setup_time':[], 'mms_setup_time':[], 'flash_setup_time':[], 'replicate':[]}\n",
    "\n",
    "for i, pmz in enumerate(search_pmzs):\n",
    "    print('Start Search: ' + str(i))\n",
    "    pmz_filter = np.isclose(pmz, ref_pmzs, atol=pmz_tol).nonzero()[0]\n",
    "    \n",
    "    search_row = search_entries.iloc[i]\n",
    "    filtered_ref = gnps_all.iloc[pmz_filter]\n",
    "    \n",
    "    MMS1 = create_mms_spectra(search_row)\n",
    "    MMS2 = filtered_ref.apply(lambda x: create_mms_spectra(x), axis=1)\n",
    "    \n",
    "    cols = ['index','precursor_mz','spectrum','scans']\n",
    "    e_small = search_row[cols].copy()\n",
    "    e_medium = filtered_ref[cols].copy()\n",
    "    e_small['spectrum'] = [list(i) for i in e_small['spectrum'].T]\n",
    "    e_medium['spectrum'] = e_medium['spectrum'].apply(lambda x: [list(i) for i in x.T])\n",
    "    e_small.rename({'spectrum':'peaks'},inplace=True)\n",
    "    e_medium.rename(columns={'spectrum':'peaks','index':'ref'},inplace=True)\n",
    "    e_small = e_small.to_dict()\n",
    "    e_medium = e_medium.to_dict('records')\n",
    "    \n",
    "    t0 = time.time()\n",
    "    d = blink.discretize_spectra([search_row.spectrum], filtered_ref.spectrum.tolist(), search_row.precursor_mz.tolist(), filtered_ref.precursor_mz.tolist(),\n",
    "                                 tolerance=0.01)\n",
    "    t1 = time.time()\n",
    "    \n",
    "    blink_setup_time = t1 - t0\n",
    "    \n",
    "    t0 = time.time()\n",
    "    blink_scores = blink.score_sparse_spectra(d)\n",
    "    t1 = time.time()\n",
    "    \n",
    "    blink_time = t1 - t0\n",
    "    \n",
    "    t0 = time.time()\n",
    "    MMS12 = cos.matrix(references=[MMS1], queries=MMS2)\n",
    "    t1 = time.time()\n",
    "\n",
    "    mms_time = t1 - t0\n",
    "    mms_setup_time = 0\n",
    "    \n",
    "    t0 = time.time()\n",
    "    e_ref = entropy_search.build_index(e_medium)\n",
    "    t1 = time.time()\n",
    "    \n",
    "    flash_setup_time = t1 - t0\n",
    "    \n",
    "    t0 = time.time()\n",
    "    entropy_similarity = entropy_search.search(precursor_mz=e_small['precursor_mz'], peaks=e_small['peaks'], ms2_tolerance_in_da=0.01, ms1_tolerance_in_da=pmz_tol, method='identity')\n",
    "    t1 = time.time()\n",
    "    \n",
    "    flash_time = t1 - t0\n",
    "    \n",
    "    id_speed_test_results['replicate'].append(replicate) \n",
    "    id_speed_test_results['blink_time'].append(blink_time) \n",
    "    id_speed_test_results['mms_time'].append(mms_time) \n",
    "    id_speed_test_results['flash_time'].append(flash_time) \n",
    "    id_speed_test_results['blink_setup_time'].append(blink_setup_time) \n",
    "    id_speed_test_results['mms_setup_time'].append(mms_setup_time) \n",
    "    id_speed_test_results['flash_setup_time'].append(flash_setup_time) "
   ]
  },
  {
   "cell_type": "code",
   "execution_count": null,
   "id": "625cdf86-95f8-424e-96f1-b08cbeb00571",
   "metadata": {
    "tags": []
   },
   "outputs": [],
   "source": [
    "keys = ['blink_time', 'mms_time', 'flash_time']\n",
    "plot_dict= dict((k, id_speed_test_results[k]) for k in keys)\n",
    "\n",
    "fig, ax = plt.subplots()\n",
    "ax.boxplot(plot_dict.values())\n",
    "ax.set_xticklabels(plot_dict.keys())\n",
    "\n",
    "plt.ylabel('Compute Time (seconds)')\n",
    "plt.yscale('log')\n",
    "# plt.legend()\n",
    "plt.show()"
   ]
  },
  {
   "cell_type": "code",
   "execution_count": null,
   "id": "222d7336-1718-4d12-8864-7f3f74402e49",
   "metadata": {
    "tags": []
   },
   "outputs": [],
   "source": [
    "plot_dict = {'blink_total_time':[], 'mms_total_time':[], 'flash_total_time':[]}\n",
    "\n",
    "plot_dict['blink_total_time'] = np.array(id_speed_test_results['blink_time']) + np.array(id_speed_test_results['blink_setup_time'])\n",
    "plot_dict['mms_total_time'] = np.array(id_speed_test_results['mms_time'])\n",
    "plot_dict['flash_total_time'] = np.array(id_speed_test_results['flash_time']) + np.array(id_speed_test_results['flash_setup_time'])"
   ]
  },
  {
   "cell_type": "code",
   "execution_count": null,
   "id": "afd13250-0d18-46f3-8870-7b91e6126545",
   "metadata": {
    "tags": []
   },
   "outputs": [],
   "source": [
    "fig, ax = plt.subplots()\n",
    "ax.boxplot(plot_dict.values())\n",
    "ax.set_xticklabels(plot_dict.keys())\n",
    "\n",
    "plt.ylabel('Compute Time (seconds)')\n",
    "plt.yscale('log')\n",
    "# plt.legend()\n",
    "plt.show()"
   ]
  },
  {
   "cell_type": "code",
   "execution_count": null,
   "id": "8e6e7037-7851-45a5-875c-9944ec812a4c",
   "metadata": {},
   "outputs": [],
   "source": []
  }
 ],
 "metadata": {
  "kernelspec": {
   "display_name": "blink-env",
   "language": "python",
   "name": "blink-env"
  },
  "language_info": {
   "codemirror_mode": {
    "name": "ipython",
    "version": 3
   },
   "file_extension": ".py",
   "mimetype": "text/x-python",
   "name": "python",
   "nbconvert_exporter": "python",
   "pygments_lexer": "ipython3",
   "version": "3.7.13"
  }
 },
 "nbformat": 4,
 "nbformat_minor": 5
}
