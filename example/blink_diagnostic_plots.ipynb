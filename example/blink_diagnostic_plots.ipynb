{
 "cells": [
  {
   "cell_type": "markdown",
   "id": "3b0ad6f0-dddc-4b32-9bac-a12dee1899c6",
   "metadata": {},
   "source": [
    "# BLINK Diagnostic Plots"
   ]
  },
  {
   "cell_type": "code",
   "execution_count": null,
   "id": "filled-lottery",
   "metadata": {
    "tags": []
   },
   "outputs": [],
   "source": [
    "from IPython.core.display import display, HTML\n",
    "display(HTML(\"<style>.container { width:100% !important; }</style>\"))\n",
    "\n",
    "import sys\n",
    "sys.path.insert(0, '../')\n",
    "\n",
    "import blink\n",
    "\n",
    "import matchms as mms\n",
    "from matchms.exporting import save_as_mgf\n",
    "from matchms.similarity import CosineGreedy, CosineHungarian\n",
    "\n",
    "import pandas as pd\n",
    "import numpy as np\n",
    "import pickle\n",
    "import time\n",
    "from sklearn.metrics import confusion_matrix, ConfusionMatrixDisplay\n",
    "\n",
    "from matplotlib import pyplot as plt\n",
    "from matplotlib.colors import LogNorm\n",
    "import seaborn as sns\n",
    "\n",
    "import matplotlib\n",
    "from matplotlib.ticker import FormatStrFormatter"
   ]
  },
  {
   "cell_type": "code",
   "execution_count": null,
   "id": "845fda24-16d7-4580-be48-33b091f234fc",
   "metadata": {},
   "outputs": [],
   "source": [
    "def create_mms_spectra(row):\n",
    "    \"\"\"\n",
    "    create MatchMS formated spectra\n",
    "    \"\"\"\n",
    "    if 'spectrumid' in row.index and 'name' in row.index:\n",
    "        cols = ['name', 'precursor_mz','inchi', 'smiles', 'spectrumid', 'scans', 'ionmode']\n",
    "    else:\n",
    "        cols = ['compound_name', 'precursor_mz','inchi', 'smiles', 'scans', 'ionmode']\n",
    "    metadata = row[cols].to_dict()\n",
    "    spectrum = mms.Spectrum(mz=np.array(row['spectrum'][0], dtype=\"float\"), intensities=np.array(row['spectrum'][1], dtype=\"float\"), metadata=metadata)\n",
    "    \n",
    "    return spectrum\n",
    "\n",
    "def remove_noise_ions(s):\n",
    "    \"\"\"\n",
    "    remove ions <1% of base peak intensity \n",
    "    \"\"\"\n",
    "    s_ratio = s[1] / s[1].max()\n",
    "    idx = s_ratio > 0.01\n",
    "    s_clean = np.array([s[0][idx], s[1][idx]])\n",
    "    \n",
    "    return s_clean\n",
    "\n",
    "def filter_spectra(row, decimal=4):\n",
    "    \"\"\"\n",
    "    filter noise ions and round m/z values to a consistent decimal place\n",
    "    \"\"\"\n",
    "    idx = np.argwhere(abs(row['spectrum'][0]-row['precursor_mz'])>14).flatten()\n",
    "    s = row['spectrum'][:,idx]\n",
    "    s_filtered = remove_noise_ions(s)\n",
    "    s_filtered = s_filtered.round(decimal)\n",
    "    \n",
    "    return s_filtered\n",
    "\n",
    "def round_precursor_mz(row, decimal=4):\n",
    "    \"\"\"\n",
    "    round precursor m/z \n",
    "    \"\"\"\n",
    "    r_pmz = round(row['precursor_mz'], decimal)\n",
    "    \n",
    "    return r_pmz"
   ]
  },
  {
   "cell_type": "markdown",
   "id": "3cd9a4c1-62b3-44d4-9bb0-9a21deb70989",
   "metadata": {
    "tags": []
   },
   "source": [
    "# Generate Test Data"
   ]
  },
  {
   "cell_type": "code",
   "execution_count": null,
   "id": "16531c1b-79ec-4ff6-b20e-2d3fe549f254",
   "metadata": {},
   "outputs": [],
   "source": [
    "#load test spectra with blink\n",
    "berkeley_lab_spectra = blink.open_msms_file('/global/cfs/cdirs/metatlas/projects/spectral_libraries/BERKELEY-LAB.mgf')\n",
    "\n",
    "#sample spectra for 10 million comparisons\n",
    "small_mgf = berkeley_lab_spectra.sample(1000)\n",
    "medium_mgf = berkeley_lab_spectra.sample(10000)\n",
    "\n",
    "#format spectra for MatchMS\n",
    "small_spectra = small_mgf.apply(lambda x: create_mms_spectra(x), axis=1)\n",
    "small_spectra = small_spectra.tolist()\n",
    "\n",
    "medium_spectra = medium_mgf.apply(lambda x: create_mms_spectra(x), axis=1)\n",
    "medium_spectra = medium_spectra.tolist()"
   ]
  },
  {
   "cell_type": "code",
   "execution_count": null,
   "id": "d28a618b-e1f7-4720-91c1-cdfcf1e5a9f0",
   "metadata": {
    "tags": []
   },
   "outputs": [],
   "source": [
    "#save spectra\n",
    "save_as_mgf(small_spectra, 'accuracy_test_data/small.mgf')\n",
    "save_as_mgf(medium_spectra, 'accuracy_test_data/medium.mgf')"
   ]
  },
  {
   "cell_type": "markdown",
   "id": "59dbf1f3-2e6e-4e13-af61-a37d450b6abf",
   "metadata": {},
   "source": [
    "# Set Comparison Parameters"
   ]
  },
  {
   "cell_type": "code",
   "execution_count": null,
   "id": "5360d5cf-63b8-4cbc-8718-cc042974bf10",
   "metadata": {
    "tags": []
   },
   "outputs": [],
   "source": [
    "tolerance = 0.01\n",
    "blink_bin_width = 0.0001"
   ]
  },
  {
   "cell_type": "markdown",
   "id": "raising-medicine",
   "metadata": {
    "tags": []
   },
   "source": [
    "# Load & Filter Test Data"
   ]
  },
  {
   "cell_type": "code",
   "execution_count": null,
   "id": "written-payroll",
   "metadata": {},
   "outputs": [],
   "source": [
    "small  = blink.open_msms_file('accuracy_test_data/small.mgf')\n",
    "medium = blink.open_msms_file('accuracy_test_data/medium.mgf')\n",
    "\n",
    "#remove all zero intensity ions\n",
    "small.spectrum = blink.spectral_normalization._filter_spectra(small.spectrum)\n",
    "medium.spectrum = blink.spectral_normalization._filter_spectra(medium.spectrum)\n",
    "\n",
    "#filter and round m/z values using function defined in cell 2\n",
    "small.spectrum = small.apply(lambda x: filter_spectra(x), axis=1)\n",
    "medium.spectrum = medium.apply(lambda x: filter_spectra(x), axis=1)\n",
    "\n",
    "small.precursor_mz = small.apply(lambda x: round_precursor_mz(x), axis=1)\n",
    "medium.precusor_mz = medium.apply(lambda x: round_precursor_mz(x), axis=1)\n",
    "\n",
    "#reconcile duplicate noise ions\n",
    "small.spectrum = blink.spectral_normalization._remove_duplicate_ions(small.spectrum, min_diff = tolerance)\n",
    "medium.spectrum = blink.spectral_normalization._remove_duplicate_ions(medium.spectrum, min_diff = tolerance)"
   ]
  },
  {
   "cell_type": "code",
   "execution_count": null,
   "id": "3a2c6420-1c0d-4c85-bcc7-e53be02b6386",
   "metadata": {
    "tags": []
   },
   "outputs": [],
   "source": [
    "small.shape"
   ]
  },
  {
   "cell_type": "code",
   "execution_count": null,
   "id": "04c083e7-10b6-4920-8339-3b6f682c7cdc",
   "metadata": {
    "tags": []
   },
   "outputs": [],
   "source": [
    "medium.shape"
   ]
  },
  {
   "cell_type": "markdown",
   "id": "a2ab25e8-6cd2-4b83-b5fd-9d6190cf762c",
   "metadata": {},
   "source": [
    "# Make 10 Million Comparisons Using BLINK"
   ]
  },
  {
   "cell_type": "code",
   "execution_count": null,
   "id": "0aa6189f-3745-4882-b273-863845a10888",
   "metadata": {
    "tags": []
   },
   "outputs": [],
   "source": [
    "S1 = blink.discretize_spectra(small.spectrum, medium.spectrum, small.precursor_mz, medium.precursor_mz, intensity_power=0.5, bin_width=blink_bin_width, tolerance=tolerance)"
   ]
  },
  {
   "cell_type": "code",
   "execution_count": null,
   "id": "solved-kingston",
   "metadata": {},
   "outputs": [],
   "source": [
    "%%time\n",
    "S12 = blink.score_sparse_spectra(S1)"
   ]
  },
  {
   "cell_type": "markdown",
   "id": "b06ee98b-7682-44d7-966a-826b6a3cbcbb",
   "metadata": {},
   "source": [
    "# Make Same Comparisons Using MatchMS"
   ]
  },
  {
   "cell_type": "code",
   "execution_count": null,
   "id": "a1fd0d07",
   "metadata": {},
   "outputs": [],
   "source": [
    "matchms_tol = round(tolerance - blink_bin_width, 4)\n",
    "\n",
    "#format spectra for MatchMS\n",
    "MMS1 = small.apply(lambda x: create_mms_spectra(x), axis=1)\n",
    "MMS2 = medium.apply(lambda x: create_mms_spectra(x), axis=1)\n",
    "\n",
    "#MatchMS parameters\n",
    "cos = CosineGreedy(tolerance=matchms_tol, intensity_power=0.5)\n",
    "cos_hungarian = CosineHungarian(tolerance=matchms_tol, intensity_power=0.5)"
   ]
  },
  {
   "cell_type": "code",
   "execution_count": null,
   "id": "adjacent-marketing",
   "metadata": {},
   "outputs": [],
   "source": [
    "%%time\n",
    "MMS12 = {}\n",
    "MMS12['greedy_cos'] = cos.matrix(references=MMS1, queries=MMS2)"
   ]
  },
  {
   "cell_type": "markdown",
   "id": "7732d84e-fc32-4a33-9cc0-8f5333483c20",
   "metadata": {},
   "source": [
    "## Comparison Plots"
   ]
  },
  {
   "cell_type": "code",
   "execution_count": null,
   "id": "3c518e83-8cca-4f95-91f6-8ede2b6647bd",
   "metadata": {
    "tags": []
   },
   "outputs": [],
   "source": [
    "fig, ax = plt.subplots(1, figsize=(12, 12))\n",
    "# ax = ax.flatten()\n",
    "\n",
    "x = MMS12['greedy_cos']['score'].flatten()\n",
    "y = S12['mzi'].toarray().flatten()\n",
    "\n",
    "# one or both have to be non-zero\n",
    "idx = (x*y)>0\n",
    "x = x[idx]\n",
    "y = y[idx]\n",
    "nonzero_score = len(x)\n",
    "\n",
    "# indices that are more than 0.001 different\n",
    "idx_diff = abs(x-y)>0.001\n",
    "different_score = sum(idx_diff)\n",
    "\n",
    "ax.plot(x[idx_diff], y[idx_diff],'.', markersize=25, alpha=0.6,label='Unequal: %.3f%%'%(100*different_score/nonzero_score), color='#ff7f0e', rasterized=True)\n",
    "ax.plot(x[~idx_diff], y[~idx_diff], '.',markersize=25, alpha=0.6, label='Equal: %.1f%%'%(100*(nonzero_score-different_score)/nonzero_score), color='#1f77b4', rasterized=True)\n",
    "ax.set_xlabel('MatchMS (Greedy) Score',fontsize=40)\n",
    "ax.set_ylabel('BLINK Score',fontsize=40)\n",
    "ax.hlines(y=0.7, xmin=0, xmax=0.7, color='r', linestyle='-', linewidth=4)\n",
    "ax.vlines(x=0.7, ymin=0, ymax=0.7, color='r', linestyle='-', linewidth=4)\n",
    "ax.tick_params(axis='both', labelsize=36)\n",
    "ax.tick_params(axis='both', labelsize=36)\n",
    "ax.legend(loc=2, prop={'size': 36})\n",
    "ax.set_ylim(bottom=0)\n",
    "ax.set_xlim(left=0)\n",
    "\n",
    "ax.set_xticks(np.arange(0, 1.2, 0.2))\n",
    "ax.set_yticks(np.arange(0, 1.2, 0.2))\n",
    "\n",
    "labels = [0, 0.2, 0.4, 0.6, 0.8, 1.0]\n",
    "ax.set_yticklabels(labels)\n",
    "ax.set_xticklabels(labels)\n",
    "\n",
    "ax.set_aspect('equal')\n",
    "\n",
    "ax.grid()\n",
    "\n",
    "# fig.savefig('cos_score-accuracy_benchmarking.pdf', bbox_inches=\"tight\")\n",
    "plt.show()"
   ]
  },
  {
   "cell_type": "code",
   "execution_count": null,
   "id": "e2680275-65ee-4c89-b1e1-e6dcae7a4f05",
   "metadata": {
    "tags": []
   },
   "outputs": [],
   "source": [
    "fig, ax = plt.subplots(1, figsize=(12, 12))\n",
    "# ax = ax.flatten()\n",
    "\n",
    "x = MMS12['greedy_cos']['matches'].flatten()\n",
    "y = S12['mzc'].toarray().flatten()\n",
    "\n",
    "# one or both have to be non-zero\n",
    "idx = (x*y)>0\n",
    "x = x[idx]\n",
    "y = y[idx]\n",
    "nonzero_matches = len(x)\n",
    "\n",
    "# indices where match counts don't agree\n",
    "idx_diff = abs(x-y)>0\n",
    "different_matches = sum(idx_diff)\n",
    "\n",
    "ax.plot(x[idx_diff], y[idx_diff],'.', markersize=25, alpha=0.6,label='Unequal: %.3f%%'%(100*different_score/nonzero_score), color='#ff7f0e', rasterized=True)\n",
    "ax.plot(x[~idx_diff], y[~idx_diff], '.',markersize=25, alpha=0.6, label='Equal: %.1f%%'%(100*(nonzero_score-different_score)/nonzero_score), color='#1f77b4', rasterized=True)\n",
    "ax.set_xlabel('MatchMS (Greedy) Matches',fontsize=40)\n",
    "ax.set_ylabel('BLINK Matches',fontsize=40)\n",
    "ax.hlines(y=6, xmin=0, xmax=6, color='r', linestyle='-', linewidth=4)\n",
    "ax.vlines(x=6, ymin=0, ymax=6, color='r', linestyle='-', linewidth=4)\n",
    "ax.tick_params(axis='both', labelsize=36)\n",
    "ax.tick_params(axis='both', labelsize=36)\n",
    "ax.legend(loc=2, prop={'size': 36})\n",
    "ax.set_ylim(bottom=0, top=150)\n",
    "ax.set_xlim(left=0, right=150)\n",
    "ax.set_xticks(np.arange(0, 175, 25))\n",
    "ax.set_yticks(np.arange(0, 175, 25))\n",
    "\n",
    "ax.set_aspect('equal')\n",
    "\n",
    "ax.grid()\n",
    "\n",
    "# fig.savefig('cos_matches-accuracy_benchmarking.pdf', bbox_inches=\"tight\")\n",
    "plt.show()"
   ]
  },
  {
   "cell_type": "markdown",
   "id": "73a96921-660d-4afd-96a2-51aafab7f3fd",
   "metadata": {},
   "source": [
    "# Benchmark BLINK Across Bin Widths"
   ]
  },
  {
   "cell_type": "code",
   "execution_count": null,
   "id": "24223bd0-093e-48cd-a8d1-8fed200f23a9",
   "metadata": {
    "tags": []
   },
   "outputs": [],
   "source": [
    "blink_bin_sizes = [0.000001, 0.000005, 0.00001, 0.00005, 0.0001, 0.0005, 0.001, 0.005, 0.01]\n",
    "\n",
    "x_init_score = MMS12['greedy_cos']['score'].flatten()\n",
    "x_init_matches = MMS12['greedy_cos']['matches'].flatten()"
   ]
  },
  {
   "cell_type": "code",
   "execution_count": null,
   "id": "c020fbdb-dc09-4af0-8032-e79a02bc5399",
   "metadata": {
    "tags": []
   },
   "outputs": [],
   "source": [
    "bin_size_benchmark = {'scoring_time':[], 'bin_width':[], 'different_score':[], 'nonzero_score':[], 'different_matches':[], 'nonzero_matches':[]}\n",
    "\n",
    "for bin_width in blink_bin_sizes:\n",
    "    print(bin_width)\n",
    "    S1 = blink.discretize_spectra(small.spectrum, medium.spectrum, small.precursor_mz, medium.precursor_mz, intensity_power=0.5, bin_width=bin_width, tolerance=tolerance)\n",
    "    \n",
    "    t0 = time.time()\n",
    "    S12 = blink.score_sparse_spectra(S1)\n",
    "    t1 = time.time()\n",
    "    \n",
    "    score_time = t1 - t0\n",
    "    \n",
    "    y_score = S12['mzi'].toarray().flatten()\n",
    "    y_matches = S12['mzc'].toarray().flatten()\n",
    "\n",
    "    # one or both have to be non-zero\n",
    "    idx = (x_init_score*y_score)>0\n",
    "    x_score = x_init_score[idx]\n",
    "    y_score = y_score[idx]\n",
    "    nonzero_scores = len(x)\n",
    "\n",
    "    # indices that are more than 0.001 different\n",
    "    idx_diff = abs(x_score-y_score)>0.001\n",
    "    different_scores = sum(idx_diff)\n",
    "    \n",
    "    bin_size_benchmark['different_score'].append( different_scores) \n",
    "    bin_size_benchmark['nonzero_score'].append(nonzero_scores) \n",
    "    \n",
    "    # one or both have to be non-zero\n",
    "    idx = (x_init_matches*y_matches)>0\n",
    "    x_matches = x_init_matches[idx]\n",
    "    y_matches = y_matches[idx]\n",
    "    nonzero_matches = len(x)\n",
    "\n",
    "    # indices that are more than 0.001 different\n",
    "    idx_diff = abs(x_matches-y_matches)>0\n",
    "    different_matches = sum(idx_diff)\n",
    "    \n",
    "    bin_size_benchmark['different_matches'].append(different_matches) \n",
    "    bin_size_benchmark['nonzero_matches'].append(nonzero_matches) \n",
    "    \n",
    "    bin_size_benchmark['scoring_time'].append(score_time)\n",
    "    bin_size_benchmark['bin_width'].append(bin_width)"
   ]
  },
  {
   "cell_type": "code",
   "execution_count": null,
   "id": "dc86b4ad-a343-4083-a122-06063dd2c99a",
   "metadata": {
    "tags": []
   },
   "outputs": [],
   "source": [
    "plot_df = pd.DataFrame.from_dict(bin_size_benchmark, orient='columns')\n",
    "plot_df['score_agreement_ratio'] = (plot_df['nonzero_score'] - plot_df['different_score']) / plot_df['nonzero_score']\n",
    "\n",
    "fig, ax = plt.subplots(2, figsize=(18, 10), sharex = True)\n",
    "ax[0].plot(plot_df['bin_width'].values, plot_df['scoring_time'].values, '-o', linewidth=3, markersize=15)\n",
    "\n",
    "ax[0].set_ylabel('Compute Time', fontsize=40)\n",
    "ax[0].tick_params(axis='both', labelsize=36)\n",
    "ax[0].set_yscale('log')\n",
    "ax[0].set_xscale('log')\n",
    "ax[0].vlines(x=0.001, ymin=plot_df['scoring_time'].values.min()-.01, ymax=plot_df['scoring_time'].values.max()+50, color='r', linestyle='--', linewidth=4)\n",
    "ax[0].grid()\n",
    "\n",
    "ax[1].plot(plot_df['bin_width'].values, plot_df['score_agreement_ratio'].values, '-o', linewidth=3, markersize=15, color = 'tab:orange')\n",
    "\n",
    "ax[1].set_ylabel('Equivalence', fontsize=40)\n",
    "ax[1].yaxis.set_major_formatter(FormatStrFormatter('%.2f'))\n",
    "ax[1].set_xlabel('BLINK Bin Width', fontsize=40)\n",
    "ax[1].tick_params(axis='both', labelsize=36)\n",
    "ax[1].vlines(x=0.001, ymin=plot_df['score_agreement_ratio'].values.min(), ymax=1, color='r', linestyle='--', linewidth=4)\n",
    "ax[1].grid()\n",
    "\n",
    "fig.savefig('cos_across-bins_benchmark.pdf', bbox_inches=\"tight\")\n",
    "plt.show()"
   ]
  },
  {
   "cell_type": "code",
   "execution_count": null,
   "id": "7bd4d699-f0fc-49f5-8ab5-7b9740f53773",
   "metadata": {},
   "outputs": [],
   "source": []
  }
 ],
 "metadata": {
  "kernelspec": {
   "display_name": "blink-env",
   "language": "python",
   "name": "blink-env"
  },
  "language_info": {
   "codemirror_mode": {
    "name": "ipython",
    "version": 3
   },
   "file_extension": ".py",
   "mimetype": "text/x-python",
   "name": "python",
   "nbconvert_exporter": "python",
   "pygments_lexer": "ipython3",
   "version": "3.7.13"
  }
 },
 "nbformat": 4,
 "nbformat_minor": 5
}
