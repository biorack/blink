{
 "cells": [
  {
   "cell_type": "markdown",
   "id": "f242c12c-71ba-40dc-8e8e-6f33714f3cae",
   "metadata": {},
   "source": [
    "# BLINK Tutorial"
   ]
  },
  {
   "cell_type": "code",
   "execution_count": null,
   "id": "85208944-d7a0-4c0b-9091-95c8aacb885b",
   "metadata": {},
   "outputs": [],
   "source": [
    "import sys\n",
    "sys.path.insert(0, '../')\n",
    "\n",
    "import blink\n",
    "import pandas as pd\n",
    "from ftplib import FTP"
   ]
  },
  {
   "cell_type": "markdown",
   "id": "40024e97-ce8d-49b3-8190-0ef108a9892c",
   "metadata": {},
   "source": [
    "## Step 0: Load Input Data From GNPS"
   ]
  },
  {
   "cell_type": "markdown",
   "id": "e77da43c-c9ad-4f37-b7be-5c3befb05c8c",
   "metadata": {},
   "source": [
    "#### BERKELEY-LAB.mgf Downloaded Here:\n",
    "https://gnps-external.ucsd.edu/gnpslibrary"
   ]
  },
  {
   "cell_type": "code",
   "execution_count": null,
   "id": "2f1ff8fb-99ce-48fa-89cb-090d682cc4df",
   "metadata": {},
   "outputs": [],
   "source": [
    "gnps_host = 'massive.ucsd.edu'\n",
    "gnps_user = 'anonymous'\n",
    "gnps_passwd = 'a'"
   ]
  },
  {
   "cell_type": "code",
   "execution_count": null,
   "id": "9d7f6a7c-5177-4577-8d83-021321bea3c1",
   "metadata": {},
   "outputs": [],
   "source": [
    "filename = '7H12_9_1_song-75-s004-a04.mzML'    \n",
    "\n",
    "with FTP(gnps_host, gnps_user, gnps_passwd) as ftp:\n",
    "    ftp.cwd('/v02/MSV000083475/peak/mzML/Swab_PLATE7_mzML/Plate7_Samples')\n",
    "    with open(filename, 'wb') as f:\n",
    "        ftp.retrbinary('RETR ' + filename, f.write)"
   ]
  },
  {
   "cell_type": "markdown",
   "id": "d8a087fd-63bf-4f9b-b869-7e3977480ed6",
   "metadata": {},
   "source": [
    "## Step 1: Read Input Data"
   ]
  },
  {
   "cell_type": "markdown",
   "id": "31d38869-cb7a-40a5-bfbb-6bb959c14d03",
   "metadata": {},
   "source": [
    "#### BLINK can accept MGF files, mzML files, and lists of spectra as input. Correctly formatted lists of spectra and precursor m/zs can be fed directly into the discretization function, the other file formats can be parsed using a built-in helper function. "
   ]
  },
  {
   "cell_type": "markdown",
   "id": "c0132f82-f794-4a97-bafa-6d4cefdc6f4a",
   "metadata": {},
   "source": [
    "__blink.open_msms_file():__\n",
    "\n",
    "This function takes an MGF file or mzML file and converts into a Pandas DataFrame."
   ]
  },
  {
   "cell_type": "markdown",
   "id": "e05b87a8-d2b5-47cc-90a4-b0bee03acb85",
   "metadata": {},
   "source": [
    "[BERKELEY-LAB.mgf](https://gnps-external.ucsd.edu/gnpslibrary)"
   ]
  },
  {
   "cell_type": "code",
   "execution_count": null,
   "id": "4edbc17f-9464-4264-8951-bda5f3ad696c",
   "metadata": {},
   "outputs": [],
   "source": [
    "#parsing MGF:\n",
    "mgf = blink.open_msms_file('BERKELEY-LAB.mgf')\n",
    "\n",
    "#parsing mzML:\n",
    "mzml = blink.open_msms_file('7H12_9_1_song-75-s004-a04.mzML')"
   ]
  },
  {
   "cell_type": "code",
   "execution_count": null,
   "id": "b5990f1c-aee6-4a07-8893-bf331dd9a5a4",
   "metadata": {},
   "outputs": [],
   "source": [
    "mgf.head()"
   ]
  },
  {
   "cell_type": "code",
   "execution_count": null,
   "id": "cf549bef-6656-4613-b0da-3ebc1213df51",
   "metadata": {},
   "outputs": [],
   "source": [
    "mzml.head()"
   ]
  },
  {
   "cell_type": "markdown",
   "id": "3bc68473-ee2e-4503-aabf-e05b07f987f4",
   "metadata": {},
   "source": [
    "## Step 2: \"Discretize\" Spectra"
   ]
  },
  {
   "cell_type": "markdown",
   "id": "b0e1c588-2dac-43a5-932f-f98636950d37",
   "metadata": {},
   "source": [
    "#### Prior to scoring, each set of spectra is discretized. This process converts lists of m/z and intensity arrays and precursor m/zs into dictionary-based sparse matrices.  "
   ]
  },
  {
   "cell_type": "markdown",
   "id": "bd825aa8-69e0-4317-9ca5-69af8fefbd54",
   "metadata": {},
   "source": [
    "__blink.discretize_spectra():__\n",
    "\n",
    "This function takes lists of fragmentation spectra and precursor m/zs as input and outputs a dictionary that contains intensity values, binned m/z values, and precursor m/z values. \n",
    "\n",
    "__Parameters:__\n",
    "\n",
    "1. bin_width (default=0.001). This value is used to convert the m/z floats into rounded integer bins. Using smaller bin widths, precision increases and speed decreases. Example of binning calculation using default values. 100.002 --> 100002\n",
    "\n",
    "2. intensity_power (default=0.5). The intensity power parameter scales intensity values used in the scoring. \n",
    "\n",
    "3. trim_empty (default=False). If True, spectra and associated metadata will be removed if the spectra are empty.\n",
    "\n",
    "4. remove_duplicates (default=False). This parameter optionally calls blink.remove_duplicate_ions, which averages m/z values and sums the intensities of fragment ions in a spectrum that are within a minumum distance. This can be useful for spectra that are noisy or poorly centroided.\n",
    "\n",
    "5. network_score (default=False). Optionally, BLINK can be used for molecular networking. If enabled in this step, the function will calculate another set of bins where the m/z are subtracted from the precursor m/z for that particular spectrum. This feature is still in development\n",
    "\n",
    "8. tolerance (default=0.01). The tolerance parameter is the minumum value between fragment ion m/zs to be considered \"matching\" and factor into the cosine based score. However, the true tolerance of the scoring algorithm is determined by both the \"tolerance\" parameter and the bin width such that true tolerance is \"tolerance\" - \"bin_width\".\n",
    "\n",
    "9. mass_diffs (default=[0]). This optional parameter allows the user to score spectra against spectra shifted by user defined chemical masses. The default value of 0 does not shift the spectra. This feature is still in development. "
   ]
  },
  {
   "cell_type": "code",
   "execution_count": null,
   "id": "46e2a08e-cace-4c6e-9efa-aab0365fd60b",
   "metadata": {},
   "outputs": [],
   "source": [
    "discretized_spectra = blink.discretize_spectra(mzml.spectrum.tolist(), mgf.spectrum.tolist(), mzml.precursor_mz.tolist(),  mgf.precursor_mz.tolist(),\n",
    "                                         bin_width=0.001, tolerance=0.01, intensity_power=0.5, trim_empty=False, remove_duplicates=False, network_score=False)"
   ]
  },
  {
   "cell_type": "markdown",
   "id": "122fd25e-c16d-4b83-bef7-4730e7decef6",
   "metadata": {},
   "source": [
    "Discretized spectra can be pre-computed and saved as numpy npz files using __blink.write_sparse_msms_file()__."
   ]
  },
  {
   "cell_type": "code",
   "execution_count": null,
   "id": "39f3ffed-2cdf-44ab-8605-61d18bad5d12",
   "metadata": {},
   "outputs": [],
   "source": [
    "blink.write_sparse_msms_file('sparse_spectra.npz', discretized_spectra)"
   ]
  },
  {
   "cell_type": "markdown",
   "id": "f7c52511-cf52-4781-b1f1-dbd109163e14",
   "metadata": {},
   "source": [
    "Likewise, saved pre-computed sparse spectra can be read with __blink.open_sparse_msms_file()__."
   ]
  },
  {
   "cell_type": "code",
   "execution_count": null,
   "id": "1bcf87d4-1c95-453b-9380-e96c64fbf4db",
   "metadata": {},
   "outputs": [],
   "source": [
    "discretized_spectra_test = blink.open_sparse_msms_file('sparse_spectra.npz')"
   ]
  },
  {
   "cell_type": "markdown",
   "id": "3b6a9220-4eea-4d81-a4f8-a2b52aae879f",
   "metadata": {},
   "source": [
    "## Step 3: Score Spectra"
   ]
  },
  {
   "cell_type": "markdown",
   "id": "64e993da-1ee8-447e-983e-8c2d79e3cc53",
   "metadata": {},
   "source": [
    "#### Next, the two sets of spectra are scored against eachother. Given discretized spectra inputs, a matrix of pairwise scores is generated."
   ]
  },
  {
   "cell_type": "markdown",
   "id": "4e6af66a-5df3-4204-8366-cd820f0e3ad8",
   "metadata": {},
   "source": [
    "__blink.score_sprase_spectra():__\n",
    "\n",
    "This function calculates the pairwise score and matching ion count matrices."
   ]
  },
  {
   "cell_type": "code",
   "execution_count": null,
   "id": "aaef3049-d235-4812-8e4d-e495300723ad",
   "metadata": {},
   "outputs": [],
   "source": [
    "%%time\n",
    "S12 = blink.score_sparse_spectra(discretized_spectra)"
   ]
  },
  {
   "cell_type": "code",
   "execution_count": null,
   "id": "0d7edda4-3a7c-4e86-a50e-8301c50af3ea",
   "metadata": {},
   "outputs": [],
   "source": [
    "#cosine similarity scores\n",
    "S12['mzi']"
   ]
  },
  {
   "cell_type": "code",
   "execution_count": null,
   "id": "7f8b7175-891a-4929-84ce-6e1c9bcb54bd",
   "metadata": {},
   "outputs": [],
   "source": [
    "#matching ion counts\n",
    "S12['mzc']"
   ]
  },
  {
   "cell_type": "markdown",
   "id": "df922ce7-c41f-4961-a318-47143a0d8c9e",
   "metadata": {},
   "source": [
    "## Step 4: Filter Scores"
   ]
  },
  {
   "cell_type": "markdown",
   "id": "122a688f-3d37-4e45-9baf-a47e532f8e54",
   "metadata": {},
   "source": [
    "#### BLINK has several helper functions to convert the raw score and count matrices into human readable outputs. "
   ]
  },
  {
   "cell_type": "markdown",
   "id": "0b148569-9d47-47f1-b285-0608e152abe5",
   "metadata": {
    "tags": []
   },
   "source": [
    "__blink.filter_hits()__\n",
    "\n",
    "This function filters the score and count matrices to only include those above a user defined cutoff\n",
    "\n",
    "__Optional Parameters:__\n",
    "1. min_score (default=0.5). This is the lowest score that will be kept from the score matrix.\n",
    "\n",
    "2. min_matches (default=5). The minumum number of matching ions to keep the score. \n",
    "\n",
    "3. override_matches (default=20). Keep scores with greater than or equal to this number of matches even if the score is lower than the good_score variable."
   ]
  },
  {
   "cell_type": "code",
   "execution_count": null,
   "id": "35f5040a-82c8-436b-a1a5-c66c424d3806",
   "metadata": {},
   "outputs": [],
   "source": [
    "filtered_S12 = blink.filter_hits(S12, min_matches=5, override_matches=20, min_score=0.6)"
   ]
  },
  {
   "cell_type": "markdown",
   "id": "2b1ccc08-6cba-4a5a-b04c-24d7119a00a7",
   "metadata": {},
   "source": [
    "__blink.reformat_score_matrix():__\n",
    "<br>\n",
    "This is a helper function that reshapes the score/matches matrices such that they can be easily associated with the spectral metadata"
   ]
  },
  {
   "cell_type": "code",
   "execution_count": null,
   "id": "9171585f-90e4-4202-ae69-7761cbaca45a",
   "metadata": {
    "tags": []
   },
   "outputs": [],
   "source": [
    "filtered_S12"
   ]
  },
  {
   "cell_type": "code",
   "execution_count": null,
   "id": "f9434576-e66b-4b86-97fc-81d08ae93f6d",
   "metadata": {},
   "outputs": [],
   "source": [
    "m = blink.reformat_score_matrix(filtered_S12)"
   ]
  },
  {
   "cell_type": "code",
   "execution_count": null,
   "id": "0cd80d3c-5217-44e3-b527-729cdccd185e",
   "metadata": {},
   "outputs": [],
   "source": [
    "df = blink.make_output_df(m)\n",
    "\n",
    "# output is stored as sparse dataframe, must to converted to standard for many operations \n",
    "df = df.sparse.to_dense()"
   ]
  },
  {
   "cell_type": "code",
   "execution_count": null,
   "id": "37d0f936-17d2-4463-ae31-89653a2af7e8",
   "metadata": {},
   "outputs": [],
   "source": [
    "df.head()"
   ]
  },
  {
   "cell_type": "code",
   "execution_count": null,
   "id": "0993b233-8c16-45ad-a1f8-78481f1e5a8f",
   "metadata": {
    "tags": []
   },
   "outputs": [],
   "source": [
    "df = pd.merge(df, mgf.add_suffix(\"_ref\"), left_on=\"ref\", right_index=True)\n",
    "df = pd.merge(df, mzml.add_suffix(\"_query\"), left_on=\"query\", right_index=True)"
   ]
  },
  {
   "cell_type": "code",
   "execution_count": null,
   "id": "03a8c648-55f9-4353-b06b-a3000017bdff",
   "metadata": {},
   "outputs": [],
   "source": [
    "df.head(20)"
   ]
  },
  {
   "cell_type": "code",
   "execution_count": null,
   "id": "27333677-80a1-4124-85b0-7661c77462ef",
   "metadata": {},
   "outputs": [],
   "source": []
  }
 ],
 "metadata": {
  "kernelspec": {
   "display_name": "blink-test",
   "language": "python",
   "name": "blink-test"
  },
  "language_info": {
   "codemirror_mode": {
    "name": "ipython",
    "version": 3
   },
   "file_extension": ".py",
   "mimetype": "text/x-python",
   "name": "python",
   "nbconvert_exporter": "python",
   "pygments_lexer": "ipython3",
   "version": "3.10.13"
  }
 },
 "nbformat": 4,
 "nbformat_minor": 5
}
