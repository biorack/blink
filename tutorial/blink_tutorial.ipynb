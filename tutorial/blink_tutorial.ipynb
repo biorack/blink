{
 "cells": [
  {
   "cell_type": "markdown",
   "id": "f242c12c-71ba-40dc-8e8e-6f33714f3cae",
   "metadata": {},
   "source": [
    "# BLINK Tutorial"
   ]
  },
  {
   "cell_type": "code",
   "execution_count": 1,
   "id": "85208944-d7a0-4c0b-9091-95c8aacb885b",
   "metadata": {},
   "outputs": [],
   "source": [
    "import sys\n",
    "sys.path.insert(0, '../')\n",
    "\n",
    "import blink\n",
    "import pandas as pd\n",
    "from ftplib import FTP"
   ]
  },
  {
   "cell_type": "markdown",
   "id": "40024e97-ce8d-49b3-8190-0ef108a9892c",
   "metadata": {},
   "source": [
    "## Step 0: Load Input Data From GNPS"
   ]
  },
  {
   "cell_type": "markdown",
   "id": "e77da43c-c9ad-4f37-b7be-5c3befb05c8c",
   "metadata": {},
   "source": [
    "#### BERKELEY-LAB.mgf Downloaded Here:\n",
    "https://gnps-external.ucsd.edu/gnpslibrary"
   ]
  },
  {
   "cell_type": "code",
   "execution_count": 2,
   "id": "2f1ff8fb-99ce-48fa-89cb-090d682cc4df",
   "metadata": {},
   "outputs": [],
   "source": [
    "gnps_host = 'massive.ucsd.edu'\n",
    "gnps_user = 'MSV000083475'\n",
    "gnps_passwd = 'a'"
   ]
  },
  {
   "cell_type": "code",
   "execution_count": 3,
   "id": "9d7f6a7c-5177-4577-8d83-021321bea3c1",
   "metadata": {},
   "outputs": [],
   "source": [
    "filename = '7H12_9_1_song-75-s004-a04.mzML'    \n",
    "\n",
    "with FTP(gnps_host, gnps_user, gnps_passwd) as ftp:\n",
    "    ftp.cwd('/ccms_peak/RAW/PLATE7/')\n",
    "    with open(filename, 'wb') as f:\n",
    "        ftp.retrbinary('RETR ' + filename, f.write)"
   ]
  },
  {
   "cell_type": "markdown",
   "id": "d8a087fd-63bf-4f9b-b869-7e3977480ed6",
   "metadata": {},
   "source": [
    "## Step 1: Read Input Data"
   ]
  },
  {
   "cell_type": "markdown",
   "id": "31d38869-cb7a-40a5-bfbb-6bb959c14d03",
   "metadata": {},
   "source": [
    "#### BLINK can accept MGF files, mzML files, and lists of spectra as input. Correctly formatted lists of spectra and precursor m/zs can be fed directly into the discretization function, the other file formats can be parsed using a built-in helper function. "
   ]
  },
  {
   "cell_type": "markdown",
   "id": "c0132f82-f794-4a97-bafa-6d4cefdc6f4a",
   "metadata": {},
   "source": [
    "__blink.open_msms_file():__\n",
    "\n",
    "This function takes an MGF file or mzML file and converts into a Pandas DataFrame."
   ]
  },
  {
   "cell_type": "markdown",
   "id": "e05b87a8-d2b5-47cc-90a4-b0bee03acb85",
   "metadata": {},
   "source": [
    "[BERKELEY-LAB.mgf](https://gnps-external.ucsd.edu/gnpslibrary)"
   ]
  },
  {
   "cell_type": "code",
   "execution_count": 4,
   "id": "4edbc17f-9464-4264-8951-bda5f3ad696c",
   "metadata": {},
   "outputs": [],
   "source": [
    "#parsing MGF:\n",
    "mgf = blink.open_msms_file('/global/cfs/cdirs/metatlas/projects/spectral_libraries/BERKELEY-LAB.mgf')\n",
    "\n",
    "#parsing mzML:\n",
    "mzml = blink.open_msms_file('7H12_9_1_song-75-s004-a04.mzML')"
   ]
  },
  {
   "cell_type": "code",
   "execution_count": 5,
   "id": "b5990f1c-aee6-4a07-8893-bf331dd9a5a4",
   "metadata": {},
   "outputs": [
    {
     "data": {
      "text/html": [
       "<div>\n",
       "<style scoped>\n",
       "    .dataframe tbody tr th:only-of-type {\n",
       "        vertical-align: middle;\n",
       "    }\n",
       "\n",
       "    .dataframe tbody tr th {\n",
       "        vertical-align: top;\n",
       "    }\n",
       "\n",
       "    .dataframe thead th {\n",
       "        text-align: right;\n",
       "    }\n",
       "</style>\n",
       "<table border=\"1\" class=\"dataframe\">\n",
       "  <thead>\n",
       "    <tr style=\"text-align: right;\">\n",
       "      <th></th>\n",
       "      <th>pepmass</th>\n",
       "      <th>charge</th>\n",
       "      <th>mslevel</th>\n",
       "      <th>source_instrument</th>\n",
       "      <th>filename</th>\n",
       "      <th>seq</th>\n",
       "      <th>ionmode</th>\n",
       "      <th>organism</th>\n",
       "      <th>name</th>\n",
       "      <th>pi</th>\n",
       "      <th>...</th>\n",
       "      <th>smiles</th>\n",
       "      <th>inchi</th>\n",
       "      <th>inchiaux</th>\n",
       "      <th>pubmed</th>\n",
       "      <th>submituser</th>\n",
       "      <th>libraryquality</th>\n",
       "      <th>spectrumid</th>\n",
       "      <th>scans</th>\n",
       "      <th>spectrum</th>\n",
       "      <th>precursor_mz</th>\n",
       "    </tr>\n",
       "  </thead>\n",
       "  <tbody>\n",
       "    <tr>\n",
       "      <th>0</th>\n",
       "      <td>(174.088, None)</td>\n",
       "      <td>[1+]</td>\n",
       "      <td>2</td>\n",
       "      <td>LC-ESI-Orbitrap</td>\n",
       "      <td>test.mgf</td>\n",
       "      <td>*..*</td>\n",
       "      <td>Negative</td>\n",
       "      <td>BERKELEY-LAB</td>\n",
       "      <td>L-citrulline M-H</td>\n",
       "      <td>Trent Northen</td>\n",
       "      <td>...</td>\n",
       "      <td>N=C(O)NCCC[C@H](N)C(=O)O</td>\n",
       "      <td>InChI=1S/C6H13N3O3/c7-4(5(10)11)2-1-3-9-6(8)12...</td>\n",
       "      <td>N/A</td>\n",
       "      <td>N/A</td>\n",
       "      <td>mpanitchpakdi</td>\n",
       "      <td>3</td>\n",
       "      <td>CCMSLIB00006685342</td>\n",
       "      <td>1</td>\n",
       "      <td>[[53.298698, 58.029301, 59.013401, 65.657997, ...</td>\n",
       "      <td>174.088</td>\n",
       "    </tr>\n",
       "    <tr>\n",
       "      <th>1</th>\n",
       "      <td>(104.035, None)</td>\n",
       "      <td>[1+]</td>\n",
       "      <td>2</td>\n",
       "      <td>LC-ESI-Orbitrap</td>\n",
       "      <td>test.mgf</td>\n",
       "      <td>*..*</td>\n",
       "      <td>Negative</td>\n",
       "      <td>BERKELEY-LAB</td>\n",
       "      <td>L-serine M-H</td>\n",
       "      <td>Trent Northen</td>\n",
       "      <td>...</td>\n",
       "      <td>N[C@@H](CO)C(=O)O</td>\n",
       "      <td>InChI=1S/C3H7NO3/c4-2(1-5)3(6)7/h2,5H,1,4H2,(H...</td>\n",
       "      <td>N/A</td>\n",
       "      <td>N/A</td>\n",
       "      <td>mpanitchpakdi</td>\n",
       "      <td>3</td>\n",
       "      <td>CCMSLIB00006685343</td>\n",
       "      <td>2</td>\n",
       "      <td>[[53.0779, 72.008904, 74.024498, 74.718102, 92...</td>\n",
       "      <td>104.035</td>\n",
       "    </tr>\n",
       "    <tr>\n",
       "      <th>2</th>\n",
       "      <td>(148.044, None)</td>\n",
       "      <td>[1+]</td>\n",
       "      <td>2</td>\n",
       "      <td>LC-ESI-Orbitrap</td>\n",
       "      <td>test.mgf</td>\n",
       "      <td>*..*</td>\n",
       "      <td>Negative</td>\n",
       "      <td>BERKELEY-LAB</td>\n",
       "      <td>L-methionine M-H</td>\n",
       "      <td>Trent Northen</td>\n",
       "      <td>...</td>\n",
       "      <td>CSCC[C@H](N)C(=O)O</td>\n",
       "      <td>InChI=1S/C5H11NO2S/c1-9-3-2-4(6)5(7)8/h4H,2-3,...</td>\n",
       "      <td>N/A</td>\n",
       "      <td>N/A</td>\n",
       "      <td>mpanitchpakdi</td>\n",
       "      <td>3</td>\n",
       "      <td>CCMSLIB00006685344</td>\n",
       "      <td>3</td>\n",
       "      <td>[[51.219601, 57.429298, 68.856201, 100.040001,...</td>\n",
       "      <td>148.044</td>\n",
       "    </tr>\n",
       "    <tr>\n",
       "      <th>3</th>\n",
       "      <td>(131.046, None)</td>\n",
       "      <td>[1+]</td>\n",
       "      <td>2</td>\n",
       "      <td>LC-ESI-Orbitrap</td>\n",
       "      <td>test.mgf</td>\n",
       "      <td>*..*</td>\n",
       "      <td>Negative</td>\n",
       "      <td>BERKELEY-LAB</td>\n",
       "      <td>L-asparagine M-H</td>\n",
       "      <td>Trent Northen</td>\n",
       "      <td>...</td>\n",
       "      <td>N=C(O)C[C@H](N)C(=O)O</td>\n",
       "      <td>InChI=1S/C4H8N2O3/c5-2(4(8)9)1-3(6)7/h2H,1,5H2...</td>\n",
       "      <td>N/A</td>\n",
       "      <td>N/A</td>\n",
       "      <td>mpanitchpakdi</td>\n",
       "      <td>3</td>\n",
       "      <td>CCMSLIB00006685345</td>\n",
       "      <td>4</td>\n",
       "      <td>[[58.0294, 70.029503, 71.013199, 71.024803, 72...</td>\n",
       "      <td>131.046</td>\n",
       "    </tr>\n",
       "    <tr>\n",
       "      <th>4</th>\n",
       "      <td>(164.072, None)</td>\n",
       "      <td>[1+]</td>\n",
       "      <td>2</td>\n",
       "      <td>LC-ESI-Orbitrap</td>\n",
       "      <td>test.mgf</td>\n",
       "      <td>*..*</td>\n",
       "      <td>Negative</td>\n",
       "      <td>BERKELEY-LAB</td>\n",
       "      <td>L-phenylalanine M-H</td>\n",
       "      <td>Trent Northen</td>\n",
       "      <td>...</td>\n",
       "      <td>N[C@@H](Cc1ccccc1)C(=O)O</td>\n",
       "      <td>InChI=1S/C9H11NO2/c10-8(9(11)12)6-7-4-2-1-3-5-...</td>\n",
       "      <td>N/A</td>\n",
       "      <td>N/A</td>\n",
       "      <td>mpanitchpakdi</td>\n",
       "      <td>3</td>\n",
       "      <td>CCMSLIB00006685346</td>\n",
       "      <td>5</td>\n",
       "      <td>[[58.858501, 72.008904, 85.3451, 91.055298, 10...</td>\n",
       "      <td>164.072</td>\n",
       "    </tr>\n",
       "  </tbody>\n",
       "</table>\n",
       "<p>5 rows × 21 columns</p>\n",
       "</div>"
      ],
      "text/plain": [
       "           pepmass charge mslevel source_instrument  filename   seq   ionmode  \\\n",
       "0  (174.088, None)   [1+]       2   LC-ESI-Orbitrap  test.mgf  *..*  Negative   \n",
       "1  (104.035, None)   [1+]       2   LC-ESI-Orbitrap  test.mgf  *..*  Negative   \n",
       "2  (148.044, None)   [1+]       2   LC-ESI-Orbitrap  test.mgf  *..*  Negative   \n",
       "3  (131.046, None)   [1+]       2   LC-ESI-Orbitrap  test.mgf  *..*  Negative   \n",
       "4  (164.072, None)   [1+]       2   LC-ESI-Orbitrap  test.mgf  *..*  Negative   \n",
       "\n",
       "       organism                 name             pi  ...  \\\n",
       "0  BERKELEY-LAB     L-citrulline M-H  Trent Northen  ...   \n",
       "1  BERKELEY-LAB         L-serine M-H  Trent Northen  ...   \n",
       "2  BERKELEY-LAB     L-methionine M-H  Trent Northen  ...   \n",
       "3  BERKELEY-LAB     L-asparagine M-H  Trent Northen  ...   \n",
       "4  BERKELEY-LAB  L-phenylalanine M-H  Trent Northen  ...   \n",
       "\n",
       "                     smiles  \\\n",
       "0  N=C(O)NCCC[C@H](N)C(=O)O   \n",
       "1         N[C@@H](CO)C(=O)O   \n",
       "2        CSCC[C@H](N)C(=O)O   \n",
       "3     N=C(O)C[C@H](N)C(=O)O   \n",
       "4  N[C@@H](Cc1ccccc1)C(=O)O   \n",
       "\n",
       "                                               inchi inchiaux pubmed  \\\n",
       "0  InChI=1S/C6H13N3O3/c7-4(5(10)11)2-1-3-9-6(8)12...      N/A    N/A   \n",
       "1  InChI=1S/C3H7NO3/c4-2(1-5)3(6)7/h2,5H,1,4H2,(H...      N/A    N/A   \n",
       "2  InChI=1S/C5H11NO2S/c1-9-3-2-4(6)5(7)8/h4H,2-3,...      N/A    N/A   \n",
       "3  InChI=1S/C4H8N2O3/c5-2(4(8)9)1-3(6)7/h2H,1,5H2...      N/A    N/A   \n",
       "4  InChI=1S/C9H11NO2/c10-8(9(11)12)6-7-4-2-1-3-5-...      N/A    N/A   \n",
       "\n",
       "      submituser libraryquality          spectrumid scans  \\\n",
       "0  mpanitchpakdi              3  CCMSLIB00006685342     1   \n",
       "1  mpanitchpakdi              3  CCMSLIB00006685343     2   \n",
       "2  mpanitchpakdi              3  CCMSLIB00006685344     3   \n",
       "3  mpanitchpakdi              3  CCMSLIB00006685345     4   \n",
       "4  mpanitchpakdi              3  CCMSLIB00006685346     5   \n",
       "\n",
       "                                            spectrum precursor_mz  \n",
       "0  [[53.298698, 58.029301, 59.013401, 65.657997, ...      174.088  \n",
       "1  [[53.0779, 72.008904, 74.024498, 74.718102, 92...      104.035  \n",
       "2  [[51.219601, 57.429298, 68.856201, 100.040001,...      148.044  \n",
       "3  [[58.0294, 70.029503, 71.013199, 71.024803, 72...      131.046  \n",
       "4  [[58.858501, 72.008904, 85.3451, 91.055298, 10...      164.072  \n",
       "\n",
       "[5 rows x 21 columns]"
      ]
     },
     "execution_count": 5,
     "metadata": {},
     "output_type": "execute_result"
    }
   ],
   "source": [
    "mgf.head()"
   ]
  },
  {
   "cell_type": "code",
   "execution_count": 6,
   "id": "cf549bef-6656-4613-b0da-3ebc1213df51",
   "metadata": {},
   "outputs": [
    {
     "data": {
      "text/html": [
       "<div>\n",
       "<style scoped>\n",
       "    .dataframe tbody tr th:only-of-type {\n",
       "        vertical-align: middle;\n",
       "    }\n",
       "\n",
       "    .dataframe tbody tr th {\n",
       "        vertical-align: top;\n",
       "    }\n",
       "\n",
       "    .dataframe thead th {\n",
       "        text-align: right;\n",
       "    }\n",
       "</style>\n",
       "<table border=\"1\" class=\"dataframe\">\n",
       "  <thead>\n",
       "    <tr style=\"text-align: right;\">\n",
       "      <th></th>\n",
       "      <th>id</th>\n",
       "      <th>ms_level</th>\n",
       "      <th>rt</th>\n",
       "      <th>spectrum</th>\n",
       "      <th>precursor_mz</th>\n",
       "      <th>i</th>\n",
       "      <th>charge</th>\n",
       "    </tr>\n",
       "  </thead>\n",
       "  <tbody>\n",
       "    <tr>\n",
       "      <th>0</th>\n",
       "      <td>29</td>\n",
       "      <td>2</td>\n",
       "      <td>0.074056</td>\n",
       "      <td>[[51.023495, 52.39509, 53.00283, 53.039024, 56...</td>\n",
       "      <td>149.059667</td>\n",
       "      <td>2.787562e+06</td>\n",
       "      <td>1.0</td>\n",
       "    </tr>\n",
       "    <tr>\n",
       "      <th>1</th>\n",
       "      <td>30</td>\n",
       "      <td>2</td>\n",
       "      <td>0.077625</td>\n",
       "      <td>[[57.16054, 62.25457, 89.9055, 109.89806, 111....</td>\n",
       "      <td>337.104489</td>\n",
       "      <td>1.578322e+06</td>\n",
       "      <td>1.0</td>\n",
       "    </tr>\n",
       "    <tr>\n",
       "      <th>2</th>\n",
       "      <td>31</td>\n",
       "      <td>2</td>\n",
       "      <td>0.081175</td>\n",
       "      <td>[[53.03918, 54.165733, 64.39659, 77.03844, 82....</td>\n",
       "      <td>163.075234</td>\n",
       "      <td>7.590549e+05</td>\n",
       "      <td>1.0</td>\n",
       "    </tr>\n",
       "    <tr>\n",
       "      <th>3</th>\n",
       "      <td>32</td>\n",
       "      <td>2</td>\n",
       "      <td>0.084741</td>\n",
       "      <td>[[50.71475, 54.151115, 66.84381, 67.95492, 78....</td>\n",
       "      <td>360.180406</td>\n",
       "      <td>7.438408e+05</td>\n",
       "      <td>1.0</td>\n",
       "    </tr>\n",
       "    <tr>\n",
       "      <th>4</th>\n",
       "      <td>34</td>\n",
       "      <td>2</td>\n",
       "      <td>0.094643</td>\n",
       "      <td>[[64.33035, 84.11954, 90.76483, 103.29681, 110...</td>\n",
       "      <td>388.211635</td>\n",
       "      <td>3.552219e+05</td>\n",
       "      <td>1.0</td>\n",
       "    </tr>\n",
       "  </tbody>\n",
       "</table>\n",
       "</div>"
      ],
      "text/plain": [
       "   id  ms_level        rt                                           spectrum  \\\n",
       "0  29         2  0.074056  [[51.023495, 52.39509, 53.00283, 53.039024, 56...   \n",
       "1  30         2  0.077625  [[57.16054, 62.25457, 89.9055, 109.89806, 111....   \n",
       "2  31         2  0.081175  [[53.03918, 54.165733, 64.39659, 77.03844, 82....   \n",
       "3  32         2  0.084741  [[50.71475, 54.151115, 66.84381, 67.95492, 78....   \n",
       "4  34         2  0.094643  [[64.33035, 84.11954, 90.76483, 103.29681, 110...   \n",
       "\n",
       "   precursor_mz             i  charge  \n",
       "0    149.059667  2.787562e+06     1.0  \n",
       "1    337.104489  1.578322e+06     1.0  \n",
       "2    163.075234  7.590549e+05     1.0  \n",
       "3    360.180406  7.438408e+05     1.0  \n",
       "4    388.211635  3.552219e+05     1.0  "
      ]
     },
     "execution_count": 6,
     "metadata": {},
     "output_type": "execute_result"
    }
   ],
   "source": [
    "mzml.head()"
   ]
  },
  {
   "cell_type": "markdown",
   "id": "3bc68473-ee2e-4503-aabf-e05b07f987f4",
   "metadata": {},
   "source": [
    "## Step 2: \"Discretize\" Spectra"
   ]
  },
  {
   "cell_type": "markdown",
   "id": "b0e1c588-2dac-43a5-932f-f98636950d37",
   "metadata": {},
   "source": [
    "#### Prior to scoring, each set of spectra is discretized. This process converts lists of m/z and intensity arrays and precursor m/zs into dictionary-based sparse matrices.  "
   ]
  },
  {
   "cell_type": "markdown",
   "id": "bd825aa8-69e0-4317-9ca5-69af8fefbd54",
   "metadata": {},
   "source": [
    "__blink.discretize_spectra():__\n",
    "\n",
    "This function takes lists of fragmentation spectra and precursor m/zs as input and outputs a dictionary that contains intensity values, binned m/z values, and precursor m/z values. \n",
    "\n",
    "__Parameters:__\n",
    "\n",
    "1. bin_width (default=0.001). This value is used to convert the m/z floats into rounded integer bins. Using smaller bin widths, precision increases and speed decreases. Example of binning calculation using default values. 100.002 --> 100002\n",
    "\n",
    "2. intensity_power (default=0.5). The intensity power parameter scales intensity values used in the scoring. \n",
    "\n",
    "3. trim_empty (default=False). If True, spectra and associated metadata will be removed if the spectra are empty.\n",
    "\n",
    "4. remove_duplicates (default=False). This parameter optionally calls blink.remove_duplicate_ions, which averages m/z values and sums the intensities of fragment ions in a spectrum that are within a minumum distance. This can be useful for spectra that are noisy or poorly centroided.\n",
    "\n",
    "5. network_score (default=False). Optionally, BLINK can be used for molecular networking. If enabled in this step, the function will calculate another set of bins where the m/z are subtracted from the precursor m/z for that particular spectrum. This feature is still in development\n",
    "\n",
    "8. tolerance (default=0.01). The tolerance parameter is the minumum value between fragment ion m/zs to be considered \"matching\" and factor into the cosine based score. However, the true tolerance of the scoring algorithm is determined by both the \"tolerance\" parameter and the bin width such that true tolerance is \"tolerance\" - \"bin_width\".\n",
    "\n",
    "9. mass_diffs (default=[0]). This optional parameter allows the user to score spectra against spectra shifted by user defined chemical masses. The default value of 0 does not shift the spectra. This feature is still in development. "
   ]
  },
  {
   "cell_type": "code",
   "execution_count": 7,
   "id": "46e2a08e-cace-4c6e-9efa-aab0365fd60b",
   "metadata": {},
   "outputs": [],
   "source": [
    "discretized_spectra = blink.discretize_spectra(mgf.spectrum.tolist(), mzml.spectrum.tolist(), mgf.precursor_mz.tolist(),  mzml.precursor_mz.tolist(),\n",
    "                                         bin_width=0.001, tolerance=0.01, intensity_power=0.5, trim_empty=False, remove_duplicates=False, network_score=False)"
   ]
  },
  {
   "cell_type": "markdown",
   "id": "122fd25e-c16d-4b83-bef7-4730e7decef6",
   "metadata": {},
   "source": [
    "Discretized spectra can be pre-computed and saved as numpy npz files using __blink.write_sparse_msms_file()__."
   ]
  },
  {
   "cell_type": "code",
   "execution_count": 8,
   "id": "39f3ffed-2cdf-44ab-8605-61d18bad5d12",
   "metadata": {},
   "outputs": [],
   "source": [
    "blink.write_sparse_msms_file('sparse_spectra.npz', discretized_spectra)"
   ]
  },
  {
   "cell_type": "markdown",
   "id": "f7c52511-cf52-4781-b1f1-dbd109163e14",
   "metadata": {},
   "source": [
    "Likewise, saved pre-computed sparse spectra can be read with __blink.open_sparse_msms_file()__."
   ]
  },
  {
   "cell_type": "code",
   "execution_count": 9,
   "id": "1bcf87d4-1c95-453b-9380-e96c64fbf4db",
   "metadata": {},
   "outputs": [],
   "source": [
    "discretized_spectra_test = blink.open_sparse_msms_file('sparse_spectra.npz')"
   ]
  },
  {
   "cell_type": "markdown",
   "id": "3b6a9220-4eea-4d81-a4f8-a2b52aae879f",
   "metadata": {},
   "source": [
    "## Step 3: Score Spectra"
   ]
  },
  {
   "cell_type": "markdown",
   "id": "64e993da-1ee8-447e-983e-8c2d79e3cc53",
   "metadata": {},
   "source": [
    "#### Next, the two sets of spectra are scored against eachother. Given discretized spectra inputs, a matrix of pairwise scores is generated."
   ]
  },
  {
   "cell_type": "markdown",
   "id": "4e6af66a-5df3-4204-8366-cd820f0e3ad8",
   "metadata": {},
   "source": [
    "__blink.score_sprase_spectra():__\n",
    "\n",
    "This function calculates the pairwise score and matching ion count matrices."
   ]
  },
  {
   "cell_type": "code",
   "execution_count": 10,
   "id": "aaef3049-d235-4812-8e4d-e495300723ad",
   "metadata": {},
   "outputs": [
    {
     "name": "stdout",
     "output_type": "stream",
     "text": [
      "CPU times: user 2.04 s, sys: 200 ms, total: 2.24 s\n",
      "Wall time: 2.24 s\n"
     ]
    }
   ],
   "source": [
    "%%time\n",
    "S12 = blink.score_sparse_spectra(discretized_spectra)"
   ]
  },
  {
   "cell_type": "code",
   "execution_count": 11,
   "id": "0d7edda4-3a7c-4e86-a50e-8301c50af3ea",
   "metadata": {},
   "outputs": [
    {
     "data": {
      "text/plain": [
       "<24563x3038 sparse matrix of type '<class 'numpy.float64'>'\n",
       "\twith 18745890 stored elements in Compressed Sparse Row format>"
      ]
     },
     "execution_count": 11,
     "metadata": {},
     "output_type": "execute_result"
    }
   ],
   "source": [
    "#cosine similarity scores\n",
    "S12['mzi']"
   ]
  },
  {
   "cell_type": "code",
   "execution_count": 12,
   "id": "7f8b7175-891a-4929-84ce-6e1c9bcb54bd",
   "metadata": {},
   "outputs": [
    {
     "data": {
      "text/plain": [
       "<24563x3038 sparse matrix of type '<class 'numpy.float64'>'\n",
       "\twith 18745890 stored elements in Compressed Sparse Row format>"
      ]
     },
     "execution_count": 12,
     "metadata": {},
     "output_type": "execute_result"
    }
   ],
   "source": [
    "#matching ion counts\n",
    "S12['mzc']"
   ]
  },
  {
   "cell_type": "markdown",
   "id": "df922ce7-c41f-4961-a318-47143a0d8c9e",
   "metadata": {},
   "source": [
    "## Step 4: Filter Scores"
   ]
  },
  {
   "cell_type": "markdown",
   "id": "122a688f-3d37-4e45-9baf-a47e532f8e54",
   "metadata": {},
   "source": [
    "#### BLINK has several helper functions to convert the raw score and count matrices into human readable outputs. "
   ]
  },
  {
   "cell_type": "markdown",
   "id": "0b148569-9d47-47f1-b285-0608e152abe5",
   "metadata": {
    "tags": []
   },
   "source": [
    "__blink.filter_hits()__\n",
    "\n",
    "This function filters the score and count matrices to only include those above a user defined cutoff\n",
    "\n",
    "__Optional Parameters:__\n",
    "1. min_score (default=0.5). This is the lowest score that will be kept from the score matrix.\n",
    "\n",
    "2. min_matches (default=5). The minumum number of matching ions to keep the score. \n",
    "\n",
    "3. override_matches (default=20). Keep scores with greater than or equal to this number of matches even if the score is lower than the good_score variable."
   ]
  },
  {
   "cell_type": "code",
   "execution_count": 13,
   "id": "35f5040a-82c8-436b-a1a5-c66c424d3806",
   "metadata": {},
   "outputs": [],
   "source": [
    "filtered_S12 = blink.filter_hits(S12, min_matches=5, override_matches=20, min_score=0.6)"
   ]
  },
  {
   "cell_type": "markdown",
   "id": "2b1ccc08-6cba-4a5a-b04c-24d7119a00a7",
   "metadata": {},
   "source": [
    "__blink.reformat_score_matrix():__\n",
    "<br>\n",
    "This is a helper function that reshapes the score/matches matrices such that they can be easily associated with the spectral metadata"
   ]
  },
  {
   "cell_type": "code",
   "execution_count": 14,
   "id": "9171585f-90e4-4202-ae69-7761cbaca45a",
   "metadata": {
    "tags": []
   },
   "outputs": [
    {
     "data": {
      "text/plain": [
       "{'mzi': <24563x3038 sparse matrix of type '<class 'numpy.float64'>'\n",
       " \twith 766805 stored elements in Compressed Sparse Row format>,\n",
       " 'mzc': <24563x3038 sparse matrix of type '<class 'numpy.float64'>'\n",
       " \twith 766805 stored elements in Compressed Sparse Row format>}"
      ]
     },
     "execution_count": 14,
     "metadata": {},
     "output_type": "execute_result"
    }
   ],
   "source": [
    "filtered_S12"
   ]
  },
  {
   "cell_type": "code",
   "execution_count": 15,
   "id": "f9434576-e66b-4b86-97fc-81d08ae93f6d",
   "metadata": {},
   "outputs": [],
   "source": [
    "m = blink.reformat_score_matrix(filtered_S12)"
   ]
  },
  {
   "cell_type": "code",
   "execution_count": 16,
   "id": "0cd80d3c-5217-44e3-b527-729cdccd185e",
   "metadata": {},
   "outputs": [],
   "source": [
    "df = blink.make_output_df(m)"
   ]
  },
  {
   "cell_type": "code",
   "execution_count": 17,
   "id": "37d0f936-17d2-4463-ae31-89653a2af7e8",
   "metadata": {},
   "outputs": [
    {
     "data": {
      "text/html": [
       "<div>\n",
       "<style scoped>\n",
       "    .dataframe tbody tr th:only-of-type {\n",
       "        vertical-align: middle;\n",
       "    }\n",
       "\n",
       "    .dataframe tbody tr th {\n",
       "        vertical-align: top;\n",
       "    }\n",
       "\n",
       "    .dataframe thead th {\n",
       "        text-align: right;\n",
       "    }\n",
       "</style>\n",
       "<table border=\"1\" class=\"dataframe\">\n",
       "  <thead>\n",
       "    <tr style=\"text-align: right;\">\n",
       "      <th></th>\n",
       "      <th>score</th>\n",
       "      <th>matches</th>\n",
       "      <th>query</th>\n",
       "      <th>ref</th>\n",
       "    </tr>\n",
       "  </thead>\n",
       "  <tbody>\n",
       "    <tr>\n",
       "      <th>0</th>\n",
       "      <td>0.674067</td>\n",
       "      <td>5.0</td>\n",
       "      <td>5.0</td>\n",
       "      <td>744.0</td>\n",
       "    </tr>\n",
       "    <tr>\n",
       "      <th>1</th>\n",
       "      <td>0.664316</td>\n",
       "      <td>5.0</td>\n",
       "      <td>72.0</td>\n",
       "      <td>889.0</td>\n",
       "    </tr>\n",
       "    <tr>\n",
       "      <th>2</th>\n",
       "      <td>0.718953</td>\n",
       "      <td>6.0</td>\n",
       "      <td>173.0</td>\n",
       "      <td>434.0</td>\n",
       "    </tr>\n",
       "    <tr>\n",
       "      <th>3</th>\n",
       "      <td>0.684335</td>\n",
       "      <td>7.0</td>\n",
       "      <td>173.0</td>\n",
       "      <td>176.0</td>\n",
       "    </tr>\n",
       "    <tr>\n",
       "      <th>4</th>\n",
       "      <td>0.648829</td>\n",
       "      <td>5.0</td>\n",
       "      <td>173.0</td>\n",
       "      <td>375.0</td>\n",
       "    </tr>\n",
       "  </tbody>\n",
       "</table>\n",
       "</div>"
      ],
      "text/plain": [
       "      score  matches  query    ref\n",
       "0  0.674067      5.0    5.0  744.0\n",
       "1  0.664316      5.0   72.0  889.0\n",
       "2  0.718953      6.0  173.0  434.0\n",
       "3  0.684335      7.0  173.0  176.0\n",
       "4  0.648829      5.0  173.0  375.0"
      ]
     },
     "execution_count": 17,
     "metadata": {},
     "output_type": "execute_result"
    }
   ],
   "source": [
    "df.head()"
   ]
  },
  {
   "cell_type": "code",
   "execution_count": 18,
   "id": "0993b233-8c16-45ad-a1f8-78481f1e5a8f",
   "metadata": {
    "tags": []
   },
   "outputs": [],
   "source": [
    "df = pd.merge(df, mgf.add_suffix(\"_ref\"), left_on=\"ref\", right_index=True)\n",
    "df = pd.merge(df, mzml.add_suffix(\"_query\"), left_on=\"query\", right_index=True)"
   ]
  },
  {
   "cell_type": "code",
   "execution_count": 19,
   "id": "27771ef1-cef5-4c91-ac27-4036aafa0f18",
   "metadata": {
    "tags": []
   },
   "outputs": [
    {
     "data": {
      "text/html": [
       "<div>\n",
       "<style scoped>\n",
       "    .dataframe tbody tr th:only-of-type {\n",
       "        vertical-align: middle;\n",
       "    }\n",
       "\n",
       "    .dataframe tbody tr th {\n",
       "        vertical-align: top;\n",
       "    }\n",
       "\n",
       "    .dataframe thead th {\n",
       "        text-align: right;\n",
       "    }\n",
       "</style>\n",
       "<table border=\"1\" class=\"dataframe\">\n",
       "  <thead>\n",
       "    <tr style=\"text-align: right;\">\n",
       "      <th></th>\n",
       "      <th>score</th>\n",
       "      <th>matches</th>\n",
       "      <th>query</th>\n",
       "      <th>ref</th>\n",
       "      <th>pepmass_ref</th>\n",
       "      <th>charge_ref</th>\n",
       "      <th>mslevel_ref</th>\n",
       "      <th>source_instrument_ref</th>\n",
       "      <th>filename_ref</th>\n",
       "      <th>seq_ref</th>\n",
       "      <th>...</th>\n",
       "      <th>scans_ref</th>\n",
       "      <th>spectrum_ref</th>\n",
       "      <th>precursor_mz_ref</th>\n",
       "      <th>id_query</th>\n",
       "      <th>ms_level_query</th>\n",
       "      <th>rt_query</th>\n",
       "      <th>spectrum_query</th>\n",
       "      <th>precursor_mz_query</th>\n",
       "      <th>i_query</th>\n",
       "      <th>charge_query</th>\n",
       "    </tr>\n",
       "  </thead>\n",
       "  <tbody>\n",
       "    <tr>\n",
       "      <th>0</th>\n",
       "      <td>0.674067</td>\n",
       "      <td>5.0</td>\n",
       "      <td>5.0</td>\n",
       "      <td>744.0</td>\n",
       "      <td>(192.063, None)</td>\n",
       "      <td>[1+]</td>\n",
       "      <td>2</td>\n",
       "      <td>LC-ESI-Orbitrap</td>\n",
       "      <td>test.mgf</td>\n",
       "      <td>*..*</td>\n",
       "      <td>...</td>\n",
       "      <td>745</td>\n",
       "      <td>[[67.8442, 69.1605, 69.196999, 132.042007, 145...</td>\n",
       "      <td>192.063</td>\n",
       "      <td>35</td>\n",
       "      <td>2</td>\n",
       "      <td>0.098210</td>\n",
       "      <td>[[52.869865, 65.41379, 68.40481, 71.388855, 80...</td>\n",
       "      <td>365.135762</td>\n",
       "      <td>2.851039e+05</td>\n",
       "      <td>1.0</td>\n",
       "    </tr>\n",
       "    <tr>\n",
       "      <th>1</th>\n",
       "      <td>0.664316</td>\n",
       "      <td>5.0</td>\n",
       "      <td>72.0</td>\n",
       "      <td>889.0</td>\n",
       "      <td>(249.096, None)</td>\n",
       "      <td>[1+]</td>\n",
       "      <td>2</td>\n",
       "      <td>LC-ESI-Orbitrap</td>\n",
       "      <td>test.mgf</td>\n",
       "      <td>*..*</td>\n",
       "      <td>...</td>\n",
       "      <td>890</td>\n",
       "      <td>[[50.2262, 57.385502, 59.262402, 65.981903, 73...</td>\n",
       "      <td>249.096</td>\n",
       "      <td>150</td>\n",
       "      <td>2</td>\n",
       "      <td>0.450176</td>\n",
       "      <td>[[55.05472, 55.935287, 56.04996, 57.033894, 57...</td>\n",
       "      <td>217.154765</td>\n",
       "      <td>4.494628e+06</td>\n",
       "      <td>1.0</td>\n",
       "    </tr>\n",
       "    <tr>\n",
       "      <th>344</th>\n",
       "      <td>0.049489</td>\n",
       "      <td>21.0</td>\n",
       "      <td>632.0</td>\n",
       "      <td>889.0</td>\n",
       "      <td>(249.096, None)</td>\n",
       "      <td>[1+]</td>\n",
       "      <td>2</td>\n",
       "      <td>LC-ESI-Orbitrap</td>\n",
       "      <td>test.mgf</td>\n",
       "      <td>*..*</td>\n",
       "      <td>...</td>\n",
       "      <td>890</td>\n",
       "      <td>[[50.2262, 57.385502, 59.262402, 65.981903, 73...</td>\n",
       "      <td>249.096</td>\n",
       "      <td>850</td>\n",
       "      <td>2</td>\n",
       "      <td>2.810151</td>\n",
       "      <td>[[53.712605, 53.735023, 54.24978, 55.054726, 6...</td>\n",
       "      <td>344.254744</td>\n",
       "      <td>1.996236e+06</td>\n",
       "      <td>1.0</td>\n",
       "    </tr>\n",
       "    <tr>\n",
       "      <th>466</th>\n",
       "      <td>0.214473</td>\n",
       "      <td>43.0</td>\n",
       "      <td>632.0</td>\n",
       "      <td>1491.0</td>\n",
       "      <td>(311.068, None)</td>\n",
       "      <td>[1+]</td>\n",
       "      <td>2</td>\n",
       "      <td>LC-ESI-Orbitrap</td>\n",
       "      <td>test.mgf</td>\n",
       "      <td>*..*</td>\n",
       "      <td>...</td>\n",
       "      <td>1492</td>\n",
       "      <td>[[66.25206, 71.622108, 98.376122, 104.279579, ...</td>\n",
       "      <td>311.068</td>\n",
       "      <td>850</td>\n",
       "      <td>2</td>\n",
       "      <td>2.810151</td>\n",
       "      <td>[[53.712605, 53.735023, 54.24978, 55.054726, 6...</td>\n",
       "      <td>344.254744</td>\n",
       "      <td>1.996236e+06</td>\n",
       "      <td>1.0</td>\n",
       "    </tr>\n",
       "    <tr>\n",
       "      <th>502</th>\n",
       "      <td>0.213441</td>\n",
       "      <td>58.0</td>\n",
       "      <td>632.0</td>\n",
       "      <td>1433.0</td>\n",
       "      <td>(295.181, None)</td>\n",
       "      <td>[1+]</td>\n",
       "      <td>2</td>\n",
       "      <td>LC-ESI-Orbitrap</td>\n",
       "      <td>test.mgf</td>\n",
       "      <td>*..*</td>\n",
       "      <td>...</td>\n",
       "      <td>1434</td>\n",
       "      <td>[[53.662491, 62.912251, 67.054619, 69.56144, 6...</td>\n",
       "      <td>295.181</td>\n",
       "      <td>850</td>\n",
       "      <td>2</td>\n",
       "      <td>2.810151</td>\n",
       "      <td>[[53.712605, 53.735023, 54.24978, 55.054726, 6...</td>\n",
       "      <td>344.254744</td>\n",
       "      <td>1.996236e+06</td>\n",
       "      <td>1.0</td>\n",
       "    </tr>\n",
       "  </tbody>\n",
       "</table>\n",
       "<p>5 rows × 32 columns</p>\n",
       "</div>"
      ],
      "text/plain": [
       "        score  matches  query     ref      pepmass_ref charge_ref mslevel_ref  \\\n",
       "0    0.674067      5.0    5.0   744.0  (192.063, None)       [1+]           2   \n",
       "1    0.664316      5.0   72.0   889.0  (249.096, None)       [1+]           2   \n",
       "344  0.049489     21.0  632.0   889.0  (249.096, None)       [1+]           2   \n",
       "466  0.214473     43.0  632.0  1491.0  (311.068, None)       [1+]           2   \n",
       "502  0.213441     58.0  632.0  1433.0  (295.181, None)       [1+]           2   \n",
       "\n",
       "    source_instrument_ref filename_ref seq_ref  ... scans_ref  \\\n",
       "0         LC-ESI-Orbitrap     test.mgf    *..*  ...       745   \n",
       "1         LC-ESI-Orbitrap     test.mgf    *..*  ...       890   \n",
       "344       LC-ESI-Orbitrap     test.mgf    *..*  ...       890   \n",
       "466       LC-ESI-Orbitrap     test.mgf    *..*  ...      1492   \n",
       "502       LC-ESI-Orbitrap     test.mgf    *..*  ...      1434   \n",
       "\n",
       "                                          spectrum_ref precursor_mz_ref  \\\n",
       "0    [[67.8442, 69.1605, 69.196999, 132.042007, 145...          192.063   \n",
       "1    [[50.2262, 57.385502, 59.262402, 65.981903, 73...          249.096   \n",
       "344  [[50.2262, 57.385502, 59.262402, 65.981903, 73...          249.096   \n",
       "466  [[66.25206, 71.622108, 98.376122, 104.279579, ...          311.068   \n",
       "502  [[53.662491, 62.912251, 67.054619, 69.56144, 6...          295.181   \n",
       "\n",
       "    id_query ms_level_query  rt_query  \\\n",
       "0         35              2  0.098210   \n",
       "1        150              2  0.450176   \n",
       "344      850              2  2.810151   \n",
       "466      850              2  2.810151   \n",
       "502      850              2  2.810151   \n",
       "\n",
       "                                        spectrum_query precursor_mz_query  \\\n",
       "0    [[52.869865, 65.41379, 68.40481, 71.388855, 80...         365.135762   \n",
       "1    [[55.05472, 55.935287, 56.04996, 57.033894, 57...         217.154765   \n",
       "344  [[53.712605, 53.735023, 54.24978, 55.054726, 6...         344.254744   \n",
       "466  [[53.712605, 53.735023, 54.24978, 55.054726, 6...         344.254744   \n",
       "502  [[53.712605, 53.735023, 54.24978, 55.054726, 6...         344.254744   \n",
       "\n",
       "          i_query charge_query  \n",
       "0    2.851039e+05          1.0  \n",
       "1    4.494628e+06          1.0  \n",
       "344  1.996236e+06          1.0  \n",
       "466  1.996236e+06          1.0  \n",
       "502  1.996236e+06          1.0  \n",
       "\n",
       "[5 rows x 32 columns]"
      ]
     },
     "execution_count": 19,
     "metadata": {},
     "output_type": "execute_result"
    }
   ],
   "source": [
    "df.head()"
   ]
  }
 ],
 "metadata": {
  "kernelspec": {
   "display_name": "blink-env",
   "language": "python",
   "name": "blink-env"
  },
  "language_info": {
   "codemirror_mode": {
    "name": "ipython",
    "version": 3
   },
   "file_extension": ".py",
   "mimetype": "text/x-python",
   "name": "python",
   "nbconvert_exporter": "python",
   "pygments_lexer": "ipython3",
   "version": "3.7.13"
  }
 },
 "nbformat": 4,
 "nbformat_minor": 5
}
